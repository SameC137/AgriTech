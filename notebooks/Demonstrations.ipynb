{
 "cells": [
  {
   "cell_type": "code",
   "execution_count": 1,
   "source": [
    "\r\n",
    "import sys, os\r\n",
    "\r\n",
    "sys.path.append(os.path.abspath(os.path.join('../scripts')))\r\n"
   ],
   "outputs": [],
   "metadata": {}
  },
  {
   "cell_type": "code",
   "execution_count": 138,
   "source": [
    "import importlib\r\n",
    "import fetch\r\n",
    "importlib.reload(fetch)\r\n",
    "from fetch import FetchData"
   ],
   "outputs": [],
   "metadata": {}
  },
  {
   "cell_type": "code",
   "execution_count": 3,
   "source": [
    "from shapely.geometry import shape, GeometryCollection, Polygon,Point\r\n",
    "import geopandas as gpd"
   ],
   "outputs": [],
   "metadata": {}
  },
  {
   "cell_type": "code",
   "execution_count": 4,
   "source": [
    "import pyproj"
   ],
   "outputs": [],
   "metadata": {}
  },
  {
   "cell_type": "code",
   "execution_count": 9,
   "source": [
    "MINX, MINY, MAXX, MAXY = [-93.756155, 41.918015, -93.747334, 41.921429]\r\n",
    "polygon = Polygon(((MINX, MINY), (MINX, MAXY), (MAXX, MAXY), (MAXX, MINY), (MINX, MINY)))\r\n",
    "\r\n",
    "grid = gpd.GeoDataFrame([polygon], columns=[\"geometry\"])\r\n",
    "grid.set_crs(epsg=4326, inplace=True)\r\n"
   ],
   "outputs": [
    {
     "output_type": "execute_result",
     "data": {
      "text/plain": [
       "                                            geometry\n",
       "0  POLYGON ((-93.75616 41.91801, -93.75616 41.921..."
      ],
      "text/html": [
       "<div>\n",
       "<style scoped>\n",
       "    .dataframe tbody tr th:only-of-type {\n",
       "        vertical-align: middle;\n",
       "    }\n",
       "\n",
       "    .dataframe tbody tr th {\n",
       "        vertical-align: top;\n",
       "    }\n",
       "\n",
       "    .dataframe thead th {\n",
       "        text-align: right;\n",
       "    }\n",
       "</style>\n",
       "<table border=\"1\" class=\"dataframe\">\n",
       "  <thead>\n",
       "    <tr style=\"text-align: right;\">\n",
       "      <th></th>\n",
       "      <th>geometry</th>\n",
       "    </tr>\n",
       "  </thead>\n",
       "  <tbody>\n",
       "    <tr>\n",
       "      <th>0</th>\n",
       "      <td>POLYGON ((-93.75616 41.91801, -93.75616 41.921...</td>\n",
       "    </tr>\n",
       "  </tbody>\n",
       "</table>\n",
       "</div>"
      ]
     },
     "metadata": {},
     "execution_count": 9
    }
   ],
   "metadata": {}
  },
  {
   "cell_type": "code",
   "execution_count": 10,
   "source": [
    "\r\n",
    "data=FetchData(\"IA_FullState\").fetch_elevation(grid,\"EPSG:4326\")"
   ],
   "outputs": [],
   "metadata": {}
  },
  {
   "cell_type": "code",
   "execution_count": 8,
   "source": [
    "data[0].describe()"
   ],
   "outputs": [
    {
     "output_type": "execute_result",
     "data": {
      "text/plain": [
       "           elevation\n",
       "count  189060.000000\n",
       "mean      316.202441\n",
       "std         2.537666\n",
       "min       306.290000\n",
       "25%       315.080000\n",
       "50%       317.150000\n",
       "75%       317.940000\n",
       "max       319.760000"
      ],
      "text/html": [
       "<div>\n",
       "<style scoped>\n",
       "    .dataframe tbody tr th:only-of-type {\n",
       "        vertical-align: middle;\n",
       "    }\n",
       "\n",
       "    .dataframe tbody tr th {\n",
       "        vertical-align: top;\n",
       "    }\n",
       "\n",
       "    .dataframe thead th {\n",
       "        text-align: right;\n",
       "    }\n",
       "</style>\n",
       "<table border=\"1\" class=\"dataframe\">\n",
       "  <thead>\n",
       "    <tr style=\"text-align: right;\">\n",
       "      <th></th>\n",
       "      <th>elevation</th>\n",
       "    </tr>\n",
       "  </thead>\n",
       "  <tbody>\n",
       "    <tr>\n",
       "      <th>count</th>\n",
       "      <td>189060.000000</td>\n",
       "    </tr>\n",
       "    <tr>\n",
       "      <th>mean</th>\n",
       "      <td>316.202441</td>\n",
       "    </tr>\n",
       "    <tr>\n",
       "      <th>std</th>\n",
       "      <td>2.537666</td>\n",
       "    </tr>\n",
       "    <tr>\n",
       "      <th>min</th>\n",
       "      <td>306.290000</td>\n",
       "    </tr>\n",
       "    <tr>\n",
       "      <th>25%</th>\n",
       "      <td>315.080000</td>\n",
       "    </tr>\n",
       "    <tr>\n",
       "      <th>50%</th>\n",
       "      <td>317.150000</td>\n",
       "    </tr>\n",
       "    <tr>\n",
       "      <th>75%</th>\n",
       "      <td>317.940000</td>\n",
       "    </tr>\n",
       "    <tr>\n",
       "      <th>max</th>\n",
       "      <td>319.760000</td>\n",
       "    </tr>\n",
       "  </tbody>\n",
       "</table>\n",
       "</div>"
      ]
     },
     "metadata": {},
     "execution_count": 8
    }
   ],
   "metadata": {}
  },
  {
   "cell_type": "code",
   "execution_count": 7,
   "source": [
    "\r\n",
    "import matplotlib.pyplot as plt\r\n",
    "%matplotlib widget\r\n",
    "FetchData(\"IA_FullState\").visualize3D(data[0])"
   ],
   "outputs": [
    {
     "output_type": "display_data",
     "data": {
      "text/plain": [
       "Canvas(toolbar=Toolbar(toolitems=[('Home', 'Reset original view', 'home', 'home'), ('Back', 'Back to previous …"
      ],
      "application/vnd.jupyter.widget-view+json": {
       "version_major": 2,
       "version_minor": 0,
       "model_id": "4ae282696c9343c98ef709a034a61802"
      }
     },
     "metadata": {}
    }
   ],
   "metadata": {}
  },
  {
   "cell_type": "code",
   "execution_count": 8,
   "source": [
    "%matplotlib widget\r\n",
    "FetchData(\"IA_FullState\").visualize2D(data[0])"
   ],
   "outputs": [
    {
     "output_type": "display_data",
     "data": {
      "text/plain": [
       "Canvas(toolbar=Toolbar(toolitems=[('Home', 'Reset original view', 'home', 'home'), ('Back', 'Back to previous …"
      ],
      "application/vnd.jupyter.widget-view+json": {
       "version_major": 2,
       "version_minor": 0,
       "model_id": "d0625b639b874b28b4375374b4c5d3b8"
      }
     },
     "metadata": {}
    }
   ],
   "metadata": {}
  },
  {
   "cell_type": "code",
   "execution_count": 10,
   "source": [
    "data[0].head()"
   ],
   "outputs": [
    {
     "output_type": "execute_result",
     "data": {
      "text/plain": [
       "   elevation                    geometry\n",
       "0     310.10  POINT (-93.75605 41.91804)\n",
       "1     310.56  POINT (-93.75566 41.91819)\n",
       "2     310.40  POINT (-93.75605 41.91864)\n",
       "3     311.59  POINT (-93.75606 41.91908)\n",
       "4     312.16  POINT (-93.75586 41.91923)"
      ],
      "text/html": [
       "<div>\n",
       "<style scoped>\n",
       "    .dataframe tbody tr th:only-of-type {\n",
       "        vertical-align: middle;\n",
       "    }\n",
       "\n",
       "    .dataframe tbody tr th {\n",
       "        vertical-align: top;\n",
       "    }\n",
       "\n",
       "    .dataframe thead th {\n",
       "        text-align: right;\n",
       "    }\n",
       "</style>\n",
       "<table border=\"1\" class=\"dataframe\">\n",
       "  <thead>\n",
       "    <tr style=\"text-align: right;\">\n",
       "      <th></th>\n",
       "      <th>elevation</th>\n",
       "      <th>geometry</th>\n",
       "    </tr>\n",
       "  </thead>\n",
       "  <tbody>\n",
       "    <tr>\n",
       "      <th>0</th>\n",
       "      <td>310.10</td>\n",
       "      <td>POINT (-93.75605 41.91804)</td>\n",
       "    </tr>\n",
       "    <tr>\n",
       "      <th>1</th>\n",
       "      <td>310.56</td>\n",
       "      <td>POINT (-93.75566 41.91819)</td>\n",
       "    </tr>\n",
       "    <tr>\n",
       "      <th>2</th>\n",
       "      <td>310.40</td>\n",
       "      <td>POINT (-93.75605 41.91864)</td>\n",
       "    </tr>\n",
       "    <tr>\n",
       "      <th>3</th>\n",
       "      <td>311.59</td>\n",
       "      <td>POINT (-93.75606 41.91908)</td>\n",
       "    </tr>\n",
       "    <tr>\n",
       "      <th>4</th>\n",
       "      <td>312.16</td>\n",
       "      <td>POINT (-93.75586 41.91923)</td>\n",
       "    </tr>\n",
       "  </tbody>\n",
       "</table>\n",
       "</div>"
      ]
     },
     "metadata": {},
     "execution_count": 10
    }
   ],
   "metadata": {}
  },
  {
   "cell_type": "code",
   "execution_count": 52,
   "source": [
    "standardized=FetchData(\"IA_FullState\").standardize(data[0],1)"
   ],
   "outputs": [
    {
     "output_type": "stream",
     "name": "stderr",
     "text": [
      "D:\\Users\\same\\anaconda3\\envs\\pdalworkshop\\lib\\site-packages\\pyproj\\crs\\crs.py:68: FutureWarning: '+init=<authority>:<code>' syntax is deprecated. '<authority>:<code>' is the preferred initialization method. When making the change, be mindful of axis order changes: https://pyproj4.github.io/pyproj/stable/gotchas.html#axis-order-changes-in-proj-6\n",
      "  return _prepare_from_string(\" \".join(pjargs))\n"
     ]
    }
   ],
   "metadata": {}
  },
  {
   "cell_type": "code",
   "execution_count": 53,
   "source": [
    "standardized"
   ],
   "outputs": [
    {
     "output_type": "execute_result",
     "data": {
      "text/plain": [
       "         elevation                    geometry\n",
       "0       309.942788  POINT (-93.75615 41.91802)\n",
       "1       310.012600  POINT (-93.75615 41.91803)\n",
       "2       310.047287  POINT (-93.75615 41.91804)\n",
       "3       310.033208  POINT (-93.75615 41.91804)\n",
       "4       310.032842  POINT (-93.75615 41.91805)\n",
       "...            ...                         ...\n",
       "499250  318.257498  POINT (-93.74734 41.92139)\n",
       "499251  318.354460  POINT (-93.74734 41.92140)\n",
       "499252  318.352785  POINT (-93.74734 41.92140)\n",
       "499253  318.333323  POINT (-93.74734 41.92141)\n",
       "499254  318.331414  POINT (-93.74734 41.92142)\n",
       "\n",
       "[499255 rows x 2 columns]"
      ],
      "text/html": [
       "<div>\n",
       "<style scoped>\n",
       "    .dataframe tbody tr th:only-of-type {\n",
       "        vertical-align: middle;\n",
       "    }\n",
       "\n",
       "    .dataframe tbody tr th {\n",
       "        vertical-align: top;\n",
       "    }\n",
       "\n",
       "    .dataframe thead th {\n",
       "        text-align: right;\n",
       "    }\n",
       "</style>\n",
       "<table border=\"1\" class=\"dataframe\">\n",
       "  <thead>\n",
       "    <tr style=\"text-align: right;\">\n",
       "      <th></th>\n",
       "      <th>elevation</th>\n",
       "      <th>geometry</th>\n",
       "    </tr>\n",
       "  </thead>\n",
       "  <tbody>\n",
       "    <tr>\n",
       "      <th>0</th>\n",
       "      <td>309.942788</td>\n",
       "      <td>POINT (-93.75615 41.91802)</td>\n",
       "    </tr>\n",
       "    <tr>\n",
       "      <th>1</th>\n",
       "      <td>310.012600</td>\n",
       "      <td>POINT (-93.75615 41.91803)</td>\n",
       "    </tr>\n",
       "    <tr>\n",
       "      <th>2</th>\n",
       "      <td>310.047287</td>\n",
       "      <td>POINT (-93.75615 41.91804)</td>\n",
       "    </tr>\n",
       "    <tr>\n",
       "      <th>3</th>\n",
       "      <td>310.033208</td>\n",
       "      <td>POINT (-93.75615 41.91804)</td>\n",
       "    </tr>\n",
       "    <tr>\n",
       "      <th>4</th>\n",
       "      <td>310.032842</td>\n",
       "      <td>POINT (-93.75615 41.91805)</td>\n",
       "    </tr>\n",
       "    <tr>\n",
       "      <th>...</th>\n",
       "      <td>...</td>\n",
       "      <td>...</td>\n",
       "    </tr>\n",
       "    <tr>\n",
       "      <th>499250</th>\n",
       "      <td>318.257498</td>\n",
       "      <td>POINT (-93.74734 41.92139)</td>\n",
       "    </tr>\n",
       "    <tr>\n",
       "      <th>499251</th>\n",
       "      <td>318.354460</td>\n",
       "      <td>POINT (-93.74734 41.92140)</td>\n",
       "    </tr>\n",
       "    <tr>\n",
       "      <th>499252</th>\n",
       "      <td>318.352785</td>\n",
       "      <td>POINT (-93.74734 41.92140)</td>\n",
       "    </tr>\n",
       "    <tr>\n",
       "      <th>499253</th>\n",
       "      <td>318.333323</td>\n",
       "      <td>POINT (-93.74734 41.92141)</td>\n",
       "    </tr>\n",
       "    <tr>\n",
       "      <th>499254</th>\n",
       "      <td>318.331414</td>\n",
       "      <td>POINT (-93.74734 41.92142)</td>\n",
       "    </tr>\n",
       "  </tbody>\n",
       "</table>\n",
       "<p>499255 rows × 2 columns</p>\n",
       "</div>"
      ]
     },
     "metadata": {},
     "execution_count": 53
    }
   ],
   "metadata": {}
  },
  {
   "cell_type": "code",
   "execution_count": 19,
   "source": [
    "%matplotlib widget\r\n",
    "FetchData(\"IA_FullState\").visualize3D(standardized)"
   ],
   "outputs": [
    {
     "output_type": "display_data",
     "data": {
      "text/plain": [
       "Canvas(toolbar=Toolbar(toolitems=[('Home', 'Reset original view', 'home', 'home'), ('Back', 'Back to previous …"
      ],
      "application/vnd.jupyter.widget-view+json": {
       "version_major": 2,
       "version_minor": 0,
       "model_id": "5a265ab6f4094420b79a69e5c9a11b0a"
      }
     },
     "metadata": {}
    }
   ],
   "metadata": {}
  },
  {
   "cell_type": "code",
   "execution_count": null,
   "source": [],
   "outputs": [],
   "metadata": {}
  },
  {
   "cell_type": "code",
   "execution_count": null,
   "source": [
    "# import geoplot\r\n",
    "# import geoplot.crs as gcrs\r\n",
    "# geoplot.kdeplot(data[0],shade=True, cmap='Spectral_r',projection=gcrs.WebMercator(), shade_lowest=True)"
   ],
   "outputs": [],
   "metadata": {}
  },
  {
   "cell_type": "code",
   "execution_count": null,
   "source": [
    "# import numpy as np\r\n",
    "# x=data[0].geometry.x\r\n",
    "# y=data[0].geometry.y\r\n",
    "# z = np.array(data[0].elevation)\r\n",
    "\r\n",
    "# z = z.reshape((len(x), len(y)))\r\n",
    "# plt.contour(x,y,z, colors='black');"
   ],
   "outputs": [],
   "metadata": {}
  },
  {
   "cell_type": "code",
   "execution_count": 137,
   "source": [
    "import importlib\r\n",
    "import fetch_without_region\r\n",
    "importlib.reload(fetch_without_region)"
   ],
   "outputs": [
    {
     "output_type": "error",
     "ename": "KeyboardInterrupt",
     "evalue": "",
     "traceback": [
      "\u001b[1;31m---------------------------------------------------------------------------\u001b[0m",
      "\u001b[1;31mKeyboardInterrupt\u001b[0m                         Traceback (most recent call last)",
      "\u001b[1;32m<ipython-input-137-59c8a485fbe5>\u001b[0m in \u001b[0;36m<module>\u001b[1;34m\u001b[0m\n\u001b[0;32m      1\u001b[0m \u001b[1;32mimport\u001b[0m \u001b[0mimportlib\u001b[0m\u001b[1;33m\u001b[0m\u001b[1;33m\u001b[0m\u001b[0m\n\u001b[1;32m----> 2\u001b[1;33m \u001b[1;32mimport\u001b[0m \u001b[0mfetch_without_region\u001b[0m\u001b[1;33m\u001b[0m\u001b[1;33m\u001b[0m\u001b[0m\n\u001b[0m\u001b[0;32m      3\u001b[0m \u001b[0mimportlib\u001b[0m\u001b[1;33m.\u001b[0m\u001b[0mreload\u001b[0m\u001b[1;33m(\u001b[0m\u001b[0mfetch_without_region\u001b[0m\u001b[1;33m)\u001b[0m\u001b[1;33m\u001b[0m\u001b[1;33m\u001b[0m\u001b[0m\n",
      "\u001b[1;32md:\\same\\Documents\\10Acadamy\\Week6\\AgriTech\\scripts\\fetch_without_region.py\u001b[0m in \u001b[0;36m<module>\u001b[1;34m\u001b[0m\n\u001b[0;32m     31\u001b[0m     \u001b[1;32mreturn\u001b[0m \u001b[0mgdf\u001b[0m\u001b[1;33m\u001b[0m\u001b[1;33m\u001b[0m\u001b[0m\n\u001b[0;32m     32\u001b[0m \u001b[1;33m\u001b[0m\u001b[0m\n\u001b[1;32m---> 33\u001b[1;33m \u001b[0mgdf\u001b[0m\u001b[1;33m=\u001b[0m\u001b[0mgetRegionsMeta\u001b[0m\u001b[1;33m(\u001b[0m\u001b[1;33m)\u001b[0m\u001b[1;33m\u001b[0m\u001b[1;33m\u001b[0m\u001b[0m\n\u001b[0m\u001b[0;32m     34\u001b[0m \u001b[0mgdf\u001b[0m\u001b[1;33m.\u001b[0m\u001b[0mfillna\u001b[0m\u001b[1;33m(\u001b[0m\u001b[1;36m0\u001b[0m\u001b[1;33m,\u001b[0m\u001b[0minplace\u001b[0m\u001b[1;33m=\u001b[0m\u001b[1;32mTrue\u001b[0m\u001b[1;33m)\u001b[0m\u001b[1;33m\u001b[0m\u001b[1;33m\u001b[0m\u001b[0m\n\u001b[0;32m     35\u001b[0m \u001b[1;33m\u001b[0m\u001b[0m\n",
      "\u001b[1;32md:\\same\\Documents\\10Acadamy\\Week6\\AgriTech\\scripts\\fetch_without_region.py\u001b[0m in \u001b[0;36mgetRegionsMeta\u001b[1;34m()\u001b[0m\n\u001b[0;32m     25\u001b[0m     \"\"\"\n\u001b[0;32m     26\u001b[0m     \u001b[0mpat\u001b[0m\u001b[1;33m=\u001b[0m\u001b[0mPath\u001b[0m\u001b[1;33m(\u001b[0m\u001b[0m__file__\u001b[0m\u001b[1;33m)\u001b[0m\u001b[1;33m.\u001b[0m\u001b[0mparent\u001b[0m\u001b[1;33m.\u001b[0m\u001b[0mjoinpath\u001b[0m\u001b[1;33m(\u001b[0m\u001b[1;34m\"metadata2.csv\"\u001b[0m\u001b[1;33m)\u001b[0m\u001b[1;33m\u001b[0m\u001b[1;33m\u001b[0m\u001b[0m\n\u001b[1;32m---> 27\u001b[1;33m     \u001b[0mframe\u001b[0m\u001b[1;33m=\u001b[0m\u001b[0mpd\u001b[0m\u001b[1;33m.\u001b[0m\u001b[0mread_csv\u001b[0m\u001b[1;33m(\u001b[0m\u001b[0mpat\u001b[0m\u001b[1;33m)\u001b[0m\u001b[1;33m\u001b[0m\u001b[1;33m\u001b[0m\u001b[0m\n\u001b[0m\u001b[0;32m     28\u001b[0m     \u001b[0mframe\u001b[0m\u001b[1;33m[\u001b[0m\u001b[1;34m\"geometry\"\u001b[0m\u001b[1;33m]\u001b[0m\u001b[1;33m=\u001b[0m \u001b[0mframe\u001b[0m\u001b[1;33m.\u001b[0m\u001b[0mapply\u001b[0m\u001b[1;33m(\u001b[0m\u001b[1;32mlambda\u001b[0m \u001b[0mx\u001b[0m\u001b[1;33m:\u001b[0m \u001b[0mbox\u001b[0m\u001b[1;33m(\u001b[0m \u001b[0mx\u001b[0m\u001b[1;33m.\u001b[0m\u001b[0mxmin\u001b[0m\u001b[1;33m,\u001b[0m\u001b[0mx\u001b[0m\u001b[1;33m.\u001b[0m\u001b[0mymin\u001b[0m\u001b[1;33m,\u001b[0m\u001b[0mx\u001b[0m\u001b[1;33m.\u001b[0m\u001b[0mxmax\u001b[0m\u001b[1;33m,\u001b[0m\u001b[0mx\u001b[0m\u001b[1;33m.\u001b[0m\u001b[0mymax\u001b[0m\u001b[1;33m)\u001b[0m \u001b[1;33m,\u001b[0m\u001b[0maxis\u001b[0m\u001b[1;33m=\u001b[0m\u001b[1;36m1\u001b[0m\u001b[1;33m)\u001b[0m\u001b[1;33m\u001b[0m\u001b[1;33m\u001b[0m\u001b[0m\n\u001b[0;32m     29\u001b[0m     \u001b[0mgdf\u001b[0m\u001b[1;33m=\u001b[0m\u001b[0mgeopandas\u001b[0m\u001b[1;33m.\u001b[0m\u001b[0mGeoDataFrame\u001b[0m\u001b[1;33m(\u001b[0m\u001b[0mframe\u001b[0m\u001b[1;33m,\u001b[0m \u001b[0mgeometry\u001b[0m\u001b[1;33m=\u001b[0m\u001b[1;34m\"geometry\"\u001b[0m\u001b[1;33m)\u001b[0m\u001b[1;33m\u001b[0m\u001b[1;33m\u001b[0m\u001b[0m\n",
      "\u001b[1;32mD:\\Users\\same\\anaconda3\\envs\\pdalworkshop\\lib\\site-packages\\pandas\\util\\_decorators.py\u001b[0m in \u001b[0;36mwrapper\u001b[1;34m(*args, **kwargs)\u001b[0m\n\u001b[0;32m    309\u001b[0m                     \u001b[0mstacklevel\u001b[0m\u001b[1;33m=\u001b[0m\u001b[0mstacklevel\u001b[0m\u001b[1;33m,\u001b[0m\u001b[1;33m\u001b[0m\u001b[1;33m\u001b[0m\u001b[0m\n\u001b[0;32m    310\u001b[0m                 )\n\u001b[1;32m--> 311\u001b[1;33m             \u001b[1;32mreturn\u001b[0m \u001b[0mfunc\u001b[0m\u001b[1;33m(\u001b[0m\u001b[1;33m*\u001b[0m\u001b[0margs\u001b[0m\u001b[1;33m,\u001b[0m \u001b[1;33m**\u001b[0m\u001b[0mkwargs\u001b[0m\u001b[1;33m)\u001b[0m\u001b[1;33m\u001b[0m\u001b[1;33m\u001b[0m\u001b[0m\n\u001b[0m\u001b[0;32m    312\u001b[0m \u001b[1;33m\u001b[0m\u001b[0m\n\u001b[0;32m    313\u001b[0m         \u001b[1;32mreturn\u001b[0m \u001b[0mwrapper\u001b[0m\u001b[1;33m\u001b[0m\u001b[1;33m\u001b[0m\u001b[0m\n",
      "\u001b[1;32mD:\\Users\\same\\anaconda3\\envs\\pdalworkshop\\lib\\site-packages\\pandas\\io\\parsers\\readers.py\u001b[0m in \u001b[0;36mread_csv\u001b[1;34m(filepath_or_buffer, sep, delimiter, header, names, index_col, usecols, squeeze, prefix, mangle_dupe_cols, dtype, engine, converters, true_values, false_values, skipinitialspace, skiprows, skipfooter, nrows, na_values, keep_default_na, na_filter, verbose, skip_blank_lines, parse_dates, infer_datetime_format, keep_date_col, date_parser, dayfirst, cache_dates, iterator, chunksize, compression, thousands, decimal, lineterminator, quotechar, quoting, doublequote, escapechar, comment, encoding, encoding_errors, dialect, error_bad_lines, warn_bad_lines, on_bad_lines, delim_whitespace, low_memory, memory_map, float_precision, storage_options)\u001b[0m\n\u001b[0;32m    584\u001b[0m     \u001b[0mkwds\u001b[0m\u001b[1;33m.\u001b[0m\u001b[0mupdate\u001b[0m\u001b[1;33m(\u001b[0m\u001b[0mkwds_defaults\u001b[0m\u001b[1;33m)\u001b[0m\u001b[1;33m\u001b[0m\u001b[1;33m\u001b[0m\u001b[0m\n\u001b[0;32m    585\u001b[0m \u001b[1;33m\u001b[0m\u001b[0m\n\u001b[1;32m--> 586\u001b[1;33m     \u001b[1;32mreturn\u001b[0m \u001b[0m_read\u001b[0m\u001b[1;33m(\u001b[0m\u001b[0mfilepath_or_buffer\u001b[0m\u001b[1;33m,\u001b[0m \u001b[0mkwds\u001b[0m\u001b[1;33m)\u001b[0m\u001b[1;33m\u001b[0m\u001b[1;33m\u001b[0m\u001b[0m\n\u001b[0m\u001b[0;32m    587\u001b[0m \u001b[1;33m\u001b[0m\u001b[0m\n\u001b[0;32m    588\u001b[0m \u001b[1;33m\u001b[0m\u001b[0m\n",
      "\u001b[1;32mD:\\Users\\same\\anaconda3\\envs\\pdalworkshop\\lib\\site-packages\\pandas\\io\\parsers\\readers.py\u001b[0m in \u001b[0;36m_read\u001b[1;34m(filepath_or_buffer, kwds)\u001b[0m\n\u001b[0;32m    480\u001b[0m \u001b[1;33m\u001b[0m\u001b[0m\n\u001b[0;32m    481\u001b[0m     \u001b[1;31m# Create the parser.\u001b[0m\u001b[1;33m\u001b[0m\u001b[1;33m\u001b[0m\u001b[1;33m\u001b[0m\u001b[0m\n\u001b[1;32m--> 482\u001b[1;33m     \u001b[0mparser\u001b[0m \u001b[1;33m=\u001b[0m \u001b[0mTextFileReader\u001b[0m\u001b[1;33m(\u001b[0m\u001b[0mfilepath_or_buffer\u001b[0m\u001b[1;33m,\u001b[0m \u001b[1;33m**\u001b[0m\u001b[0mkwds\u001b[0m\u001b[1;33m)\u001b[0m\u001b[1;33m\u001b[0m\u001b[1;33m\u001b[0m\u001b[0m\n\u001b[0m\u001b[0;32m    483\u001b[0m \u001b[1;33m\u001b[0m\u001b[0m\n\u001b[0;32m    484\u001b[0m     \u001b[1;32mif\u001b[0m \u001b[0mchunksize\u001b[0m \u001b[1;32mor\u001b[0m \u001b[0miterator\u001b[0m\u001b[1;33m:\u001b[0m\u001b[1;33m\u001b[0m\u001b[1;33m\u001b[0m\u001b[0m\n",
      "\u001b[1;32mD:\\Users\\same\\anaconda3\\envs\\pdalworkshop\\lib\\site-packages\\pandas\\io\\parsers\\readers.py\u001b[0m in \u001b[0;36m__init__\u001b[1;34m(self, f, engine, **kwds)\u001b[0m\n\u001b[0;32m    809\u001b[0m             \u001b[0mself\u001b[0m\u001b[1;33m.\u001b[0m\u001b[0moptions\u001b[0m\u001b[1;33m[\u001b[0m\u001b[1;34m\"has_index_names\"\u001b[0m\u001b[1;33m]\u001b[0m \u001b[1;33m=\u001b[0m \u001b[0mkwds\u001b[0m\u001b[1;33m[\u001b[0m\u001b[1;34m\"has_index_names\"\u001b[0m\u001b[1;33m]\u001b[0m\u001b[1;33m\u001b[0m\u001b[1;33m\u001b[0m\u001b[0m\n\u001b[0;32m    810\u001b[0m \u001b[1;33m\u001b[0m\u001b[0m\n\u001b[1;32m--> 811\u001b[1;33m         \u001b[0mself\u001b[0m\u001b[1;33m.\u001b[0m\u001b[0m_engine\u001b[0m \u001b[1;33m=\u001b[0m \u001b[0mself\u001b[0m\u001b[1;33m.\u001b[0m\u001b[0m_make_engine\u001b[0m\u001b[1;33m(\u001b[0m\u001b[0mself\u001b[0m\u001b[1;33m.\u001b[0m\u001b[0mengine\u001b[0m\u001b[1;33m)\u001b[0m\u001b[1;33m\u001b[0m\u001b[1;33m\u001b[0m\u001b[0m\n\u001b[0m\u001b[0;32m    812\u001b[0m \u001b[1;33m\u001b[0m\u001b[0m\n\u001b[0;32m    813\u001b[0m     \u001b[1;32mdef\u001b[0m \u001b[0mclose\u001b[0m\u001b[1;33m(\u001b[0m\u001b[0mself\u001b[0m\u001b[1;33m)\u001b[0m\u001b[1;33m:\u001b[0m\u001b[1;33m\u001b[0m\u001b[1;33m\u001b[0m\u001b[0m\n",
      "\u001b[1;32mD:\\Users\\same\\anaconda3\\envs\\pdalworkshop\\lib\\site-packages\\pandas\\io\\parsers\\readers.py\u001b[0m in \u001b[0;36m_make_engine\u001b[1;34m(self, engine)\u001b[0m\n\u001b[0;32m   1038\u001b[0m             )\n\u001b[0;32m   1039\u001b[0m         \u001b[1;31m# error: Too many arguments for \"ParserBase\"\u001b[0m\u001b[1;33m\u001b[0m\u001b[1;33m\u001b[0m\u001b[1;33m\u001b[0m\u001b[0m\n\u001b[1;32m-> 1040\u001b[1;33m         \u001b[1;32mreturn\u001b[0m \u001b[0mmapping\u001b[0m\u001b[1;33m[\u001b[0m\u001b[0mengine\u001b[0m\u001b[1;33m]\u001b[0m\u001b[1;33m(\u001b[0m\u001b[0mself\u001b[0m\u001b[1;33m.\u001b[0m\u001b[0mf\u001b[0m\u001b[1;33m,\u001b[0m \u001b[1;33m**\u001b[0m\u001b[0mself\u001b[0m\u001b[1;33m.\u001b[0m\u001b[0moptions\u001b[0m\u001b[1;33m)\u001b[0m  \u001b[1;31m# type: ignore[call-arg]\u001b[0m\u001b[1;33m\u001b[0m\u001b[1;33m\u001b[0m\u001b[0m\n\u001b[0m\u001b[0;32m   1041\u001b[0m \u001b[1;33m\u001b[0m\u001b[0m\n\u001b[0;32m   1042\u001b[0m     \u001b[1;32mdef\u001b[0m \u001b[0m_failover_to_python\u001b[0m\u001b[1;33m(\u001b[0m\u001b[0mself\u001b[0m\u001b[1;33m)\u001b[0m\u001b[1;33m:\u001b[0m\u001b[1;33m\u001b[0m\u001b[1;33m\u001b[0m\u001b[0m\n",
      "\u001b[1;32mD:\\Users\\same\\anaconda3\\envs\\pdalworkshop\\lib\\site-packages\\pandas\\io\\parsers\\c_parser_wrapper.py\u001b[0m in \u001b[0;36m__init__\u001b[1;34m(self, src, **kwds)\u001b[0m\n\u001b[0;32m     49\u001b[0m \u001b[1;33m\u001b[0m\u001b[0m\n\u001b[0;32m     50\u001b[0m         \u001b[1;31m# open handles\u001b[0m\u001b[1;33m\u001b[0m\u001b[1;33m\u001b[0m\u001b[1;33m\u001b[0m\u001b[0m\n\u001b[1;32m---> 51\u001b[1;33m         \u001b[0mself\u001b[0m\u001b[1;33m.\u001b[0m\u001b[0m_open_handles\u001b[0m\u001b[1;33m(\u001b[0m\u001b[0msrc\u001b[0m\u001b[1;33m,\u001b[0m \u001b[0mkwds\u001b[0m\u001b[1;33m)\u001b[0m\u001b[1;33m\u001b[0m\u001b[1;33m\u001b[0m\u001b[0m\n\u001b[0m\u001b[0;32m     52\u001b[0m         \u001b[1;32massert\u001b[0m \u001b[0mself\u001b[0m\u001b[1;33m.\u001b[0m\u001b[0mhandles\u001b[0m \u001b[1;32mis\u001b[0m \u001b[1;32mnot\u001b[0m \u001b[1;32mNone\u001b[0m\u001b[1;33m\u001b[0m\u001b[1;33m\u001b[0m\u001b[0m\n\u001b[0;32m     53\u001b[0m \u001b[1;33m\u001b[0m\u001b[0m\n",
      "\u001b[1;32mD:\\Users\\same\\anaconda3\\envs\\pdalworkshop\\lib\\site-packages\\pandas\\io\\parsers\\base_parser.py\u001b[0m in \u001b[0;36m_open_handles\u001b[1;34m(self, src, kwds)\u001b[0m\n\u001b[0;32m    220\u001b[0m         \u001b[0mLet\u001b[0m \u001b[0mthe\u001b[0m \u001b[0mreaders\u001b[0m \u001b[0mopen\u001b[0m \u001b[0mIOHandles\u001b[0m \u001b[0mafter\u001b[0m \u001b[0mthey\u001b[0m \u001b[0mare\u001b[0m \u001b[0mdone\u001b[0m \u001b[1;32mwith\u001b[0m \u001b[0mtheir\u001b[0m \u001b[0mpotential\u001b[0m \u001b[0mraises\u001b[0m\u001b[1;33m.\u001b[0m\u001b[1;33m\u001b[0m\u001b[1;33m\u001b[0m\u001b[0m\n\u001b[0;32m    221\u001b[0m         \"\"\"\n\u001b[1;32m--> 222\u001b[1;33m         self.handles = get_handle(\n\u001b[0m\u001b[0;32m    223\u001b[0m             \u001b[0msrc\u001b[0m\u001b[1;33m,\u001b[0m\u001b[1;33m\u001b[0m\u001b[1;33m\u001b[0m\u001b[0m\n\u001b[0;32m    224\u001b[0m             \u001b[1;34m\"r\"\u001b[0m\u001b[1;33m,\u001b[0m\u001b[1;33m\u001b[0m\u001b[1;33m\u001b[0m\u001b[0m\n",
      "\u001b[1;32mD:\\Users\\same\\anaconda3\\envs\\pdalworkshop\\lib\\site-packages\\pandas\\io\\common.py\u001b[0m in \u001b[0;36mget_handle\u001b[1;34m(path_or_buf, mode, encoding, compression, memory_map, is_text, errors, storage_options)\u001b[0m\n\u001b[0;32m    606\u001b[0m \u001b[1;33m\u001b[0m\u001b[0m\n\u001b[0;32m    607\u001b[0m     \u001b[1;31m# open URLs\u001b[0m\u001b[1;33m\u001b[0m\u001b[1;33m\u001b[0m\u001b[1;33m\u001b[0m\u001b[0m\n\u001b[1;32m--> 608\u001b[1;33m     ioargs = _get_filepath_or_buffer(\n\u001b[0m\u001b[0;32m    609\u001b[0m         \u001b[0mpath_or_buf\u001b[0m\u001b[1;33m,\u001b[0m\u001b[1;33m\u001b[0m\u001b[1;33m\u001b[0m\u001b[0m\n\u001b[0;32m    610\u001b[0m         \u001b[0mencoding\u001b[0m\u001b[1;33m=\u001b[0m\u001b[0mencoding\u001b[0m\u001b[1;33m,\u001b[0m\u001b[1;33m\u001b[0m\u001b[1;33m\u001b[0m\u001b[0m\n",
      "\u001b[1;32mD:\\Users\\same\\anaconda3\\envs\\pdalworkshop\\lib\\site-packages\\pandas\\io\\common.py\u001b[0m in \u001b[0;36m_get_filepath_or_buffer\u001b[1;34m(filepath_or_buffer, encoding, compression, mode, storage_options)\u001b[0m\n\u001b[0;32m    260\u001b[0m \u001b[1;33m\u001b[0m\u001b[0m\n\u001b[0;32m    261\u001b[0m     \u001b[1;31m# handle compression dict\u001b[0m\u001b[1;33m\u001b[0m\u001b[1;33m\u001b[0m\u001b[1;33m\u001b[0m\u001b[0m\n\u001b[1;32m--> 262\u001b[1;33m     \u001b[0mcompression_method\u001b[0m\u001b[1;33m,\u001b[0m \u001b[0mcompression\u001b[0m \u001b[1;33m=\u001b[0m \u001b[0mget_compression_method\u001b[0m\u001b[1;33m(\u001b[0m\u001b[0mcompression\u001b[0m\u001b[1;33m)\u001b[0m\u001b[1;33m\u001b[0m\u001b[1;33m\u001b[0m\u001b[0m\n\u001b[0m\u001b[0;32m    263\u001b[0m     \u001b[0mcompression_method\u001b[0m \u001b[1;33m=\u001b[0m \u001b[0minfer_compression\u001b[0m\u001b[1;33m(\u001b[0m\u001b[0mfilepath_or_buffer\u001b[0m\u001b[1;33m,\u001b[0m \u001b[0mcompression_method\u001b[0m\u001b[1;33m)\u001b[0m\u001b[1;33m\u001b[0m\u001b[1;33m\u001b[0m\u001b[0m\n\u001b[0;32m    264\u001b[0m \u001b[1;33m\u001b[0m\u001b[0m\n",
      "\u001b[1;32mD:\\Users\\same\\anaconda3\\envs\\pdalworkshop\\lib\\site-packages\\pandas\\io\\common.py\u001b[0m in \u001b[0;36mget_compression_method\u001b[1;34m(compression)\u001b[0m\n\u001b[0;32m    448\u001b[0m     \"\"\"\n\u001b[0;32m    449\u001b[0m     \u001b[0mcompression_method\u001b[0m\u001b[1;33m:\u001b[0m \u001b[0mstr\u001b[0m \u001b[1;33m|\u001b[0m \u001b[1;32mNone\u001b[0m\u001b[1;33m\u001b[0m\u001b[1;33m\u001b[0m\u001b[0m\n\u001b[1;32m--> 450\u001b[1;33m     \u001b[1;32mif\u001b[0m \u001b[0misinstance\u001b[0m\u001b[1;33m(\u001b[0m\u001b[0mcompression\u001b[0m\u001b[1;33m,\u001b[0m \u001b[0mMapping\u001b[0m\u001b[1;33m)\u001b[0m\u001b[1;33m:\u001b[0m\u001b[1;33m\u001b[0m\u001b[1;33m\u001b[0m\u001b[0m\n\u001b[0m\u001b[0;32m    451\u001b[0m         \u001b[0mcompression_args\u001b[0m \u001b[1;33m=\u001b[0m \u001b[0mdict\u001b[0m\u001b[1;33m(\u001b[0m\u001b[0mcompression\u001b[0m\u001b[1;33m)\u001b[0m\u001b[1;33m\u001b[0m\u001b[1;33m\u001b[0m\u001b[0m\n\u001b[0;32m    452\u001b[0m         \u001b[1;32mtry\u001b[0m\u001b[1;33m:\u001b[0m\u001b[1;33m\u001b[0m\u001b[1;33m\u001b[0m\u001b[0m\n",
      "\u001b[1;32mD:\\Users\\same\\anaconda3\\envs\\pdalworkshop\\lib\\typing.py\u001b[0m in \u001b[0;36m__instancecheck__\u001b[1;34m(self, obj)\u001b[0m\n\u001b[0;32m    708\u001b[0m \u001b[1;33m\u001b[0m\u001b[0m\n\u001b[0;32m    709\u001b[0m     \u001b[1;32mdef\u001b[0m \u001b[0m__instancecheck__\u001b[0m\u001b[1;33m(\u001b[0m\u001b[0mself\u001b[0m\u001b[1;33m,\u001b[0m \u001b[0mobj\u001b[0m\u001b[1;33m)\u001b[0m\u001b[1;33m:\u001b[0m\u001b[1;33m\u001b[0m\u001b[1;33m\u001b[0m\u001b[0m\n\u001b[1;32m--> 710\u001b[1;33m         \u001b[1;32mreturn\u001b[0m \u001b[0mself\u001b[0m\u001b[1;33m.\u001b[0m\u001b[0m__subclasscheck__\u001b[0m\u001b[1;33m(\u001b[0m\u001b[0mtype\u001b[0m\u001b[1;33m(\u001b[0m\u001b[0mobj\u001b[0m\u001b[1;33m)\u001b[0m\u001b[1;33m)\u001b[0m\u001b[1;33m\u001b[0m\u001b[1;33m\u001b[0m\u001b[0m\n\u001b[0m\u001b[0;32m    711\u001b[0m \u001b[1;33m\u001b[0m\u001b[0m\n\u001b[0;32m    712\u001b[0m     \u001b[1;32mdef\u001b[0m \u001b[0m__subclasscheck__\u001b[0m\u001b[1;33m(\u001b[0m\u001b[0mself\u001b[0m\u001b[1;33m,\u001b[0m \u001b[0mcls\u001b[0m\u001b[1;33m)\u001b[0m\u001b[1;33m:\u001b[0m\u001b[1;33m\u001b[0m\u001b[1;33m\u001b[0m\u001b[0m\n",
      "\u001b[1;32mD:\\Users\\same\\anaconda3\\envs\\pdalworkshop\\lib\\typing.py\u001b[0m in \u001b[0;36m__subclasscheck__\u001b[1;34m(self, cls)\u001b[0m\n\u001b[0;32m    840\u001b[0m             \u001b[1;32mreturn\u001b[0m \u001b[0missubclass\u001b[0m\u001b[1;33m(\u001b[0m\u001b[0mcls\u001b[0m\u001b[1;33m.\u001b[0m\u001b[0m__origin__\u001b[0m\u001b[1;33m,\u001b[0m \u001b[0mself\u001b[0m\u001b[1;33m.\u001b[0m\u001b[0m__origin__\u001b[0m\u001b[1;33m)\u001b[0m\u001b[1;33m\u001b[0m\u001b[1;33m\u001b[0m\u001b[0m\n\u001b[0;32m    841\u001b[0m         \u001b[1;32mif\u001b[0m \u001b[1;32mnot\u001b[0m \u001b[0misinstance\u001b[0m\u001b[1;33m(\u001b[0m\u001b[0mcls\u001b[0m\u001b[1;33m,\u001b[0m \u001b[0m_GenericAlias\u001b[0m\u001b[1;33m)\u001b[0m\u001b[1;33m:\u001b[0m\u001b[1;33m\u001b[0m\u001b[1;33m\u001b[0m\u001b[0m\n\u001b[1;32m--> 842\u001b[1;33m             \u001b[1;32mreturn\u001b[0m \u001b[0missubclass\u001b[0m\u001b[1;33m(\u001b[0m\u001b[0mcls\u001b[0m\u001b[1;33m,\u001b[0m \u001b[0mself\u001b[0m\u001b[1;33m.\u001b[0m\u001b[0m__origin__\u001b[0m\u001b[1;33m)\u001b[0m\u001b[1;33m\u001b[0m\u001b[1;33m\u001b[0m\u001b[0m\n\u001b[0m\u001b[0;32m    843\u001b[0m         \u001b[1;32mreturn\u001b[0m \u001b[0msuper\u001b[0m\u001b[1;33m(\u001b[0m\u001b[1;33m)\u001b[0m\u001b[1;33m.\u001b[0m\u001b[0m__subclasscheck__\u001b[0m\u001b[1;33m(\u001b[0m\u001b[0mcls\u001b[0m\u001b[1;33m)\u001b[0m\u001b[1;33m\u001b[0m\u001b[1;33m\u001b[0m\u001b[0m\n\u001b[0;32m    844\u001b[0m \u001b[1;33m\u001b[0m\u001b[0m\n",
      "\u001b[1;32mD:\\Users\\same\\anaconda3\\envs\\pdalworkshop\\lib\\abc.py\u001b[0m in \u001b[0;36m__subclasscheck__\u001b[1;34m(cls, subclass)\u001b[0m\n\u001b[0;32m    121\u001b[0m         \u001b[1;32mdef\u001b[0m \u001b[0m__subclasscheck__\u001b[0m\u001b[1;33m(\u001b[0m\u001b[0mcls\u001b[0m\u001b[1;33m,\u001b[0m \u001b[0msubclass\u001b[0m\u001b[1;33m)\u001b[0m\u001b[1;33m:\u001b[0m\u001b[1;33m\u001b[0m\u001b[1;33m\u001b[0m\u001b[0m\n\u001b[0;32m    122\u001b[0m             \u001b[1;34m\"\"\"Override for issubclass(subclass, cls).\"\"\"\u001b[0m\u001b[1;33m\u001b[0m\u001b[1;33m\u001b[0m\u001b[0m\n\u001b[1;32m--> 123\u001b[1;33m             \u001b[1;32mreturn\u001b[0m \u001b[0m_abc_subclasscheck\u001b[0m\u001b[1;33m(\u001b[0m\u001b[0mcls\u001b[0m\u001b[1;33m,\u001b[0m \u001b[0msubclass\u001b[0m\u001b[1;33m)\u001b[0m\u001b[1;33m\u001b[0m\u001b[1;33m\u001b[0m\u001b[0m\n\u001b[0m\u001b[0;32m    124\u001b[0m \u001b[1;33m\u001b[0m\u001b[0m\n\u001b[0;32m    125\u001b[0m         \u001b[1;32mdef\u001b[0m \u001b[0m_dump_registry\u001b[0m\u001b[1;33m(\u001b[0m\u001b[0mcls\u001b[0m\u001b[1;33m,\u001b[0m \u001b[0mfile\u001b[0m\u001b[1;33m=\u001b[0m\u001b[1;32mNone\u001b[0m\u001b[1;33m)\u001b[0m\u001b[1;33m:\u001b[0m\u001b[1;33m\u001b[0m\u001b[1;33m\u001b[0m\u001b[0m\n",
      "\u001b[1;32mD:\\Users\\same\\anaconda3\\envs\\pdalworkshop\\lib\\abc.py\u001b[0m in \u001b[0;36m__subclasscheck__\u001b[1;34m(cls, subclass)\u001b[0m\n\u001b[0;32m    121\u001b[0m         \u001b[1;32mdef\u001b[0m \u001b[0m__subclasscheck__\u001b[0m\u001b[1;33m(\u001b[0m\u001b[0mcls\u001b[0m\u001b[1;33m,\u001b[0m \u001b[0msubclass\u001b[0m\u001b[1;33m)\u001b[0m\u001b[1;33m:\u001b[0m\u001b[1;33m\u001b[0m\u001b[1;33m\u001b[0m\u001b[0m\n\u001b[0;32m    122\u001b[0m             \u001b[1;34m\"\"\"Override for issubclass(subclass, cls).\"\"\"\u001b[0m\u001b[1;33m\u001b[0m\u001b[1;33m\u001b[0m\u001b[0m\n\u001b[1;32m--> 123\u001b[1;33m             \u001b[1;32mreturn\u001b[0m \u001b[0m_abc_subclasscheck\u001b[0m\u001b[1;33m(\u001b[0m\u001b[0mcls\u001b[0m\u001b[1;33m,\u001b[0m \u001b[0msubclass\u001b[0m\u001b[1;33m)\u001b[0m\u001b[1;33m\u001b[0m\u001b[1;33m\u001b[0m\u001b[0m\n\u001b[0m\u001b[0;32m    124\u001b[0m \u001b[1;33m\u001b[0m\u001b[0m\n\u001b[0;32m    125\u001b[0m         \u001b[1;32mdef\u001b[0m \u001b[0m_dump_registry\u001b[0m\u001b[1;33m(\u001b[0m\u001b[0mcls\u001b[0m\u001b[1;33m,\u001b[0m \u001b[0mfile\u001b[0m\u001b[1;33m=\u001b[0m\u001b[1;32mNone\u001b[0m\u001b[1;33m)\u001b[0m\u001b[1;33m:\u001b[0m\u001b[1;33m\u001b[0m\u001b[1;33m\u001b[0m\u001b[0m\n",
      "\u001b[1;32mD:\\Users\\same\\anaconda3\\envs\\pdalworkshop\\lib\\abc.py\u001b[0m in \u001b[0;36m__subclasscheck__\u001b[1;34m(cls, subclass)\u001b[0m\n\u001b[0;32m    121\u001b[0m         \u001b[1;32mdef\u001b[0m \u001b[0m__subclasscheck__\u001b[0m\u001b[1;33m(\u001b[0m\u001b[0mcls\u001b[0m\u001b[1;33m,\u001b[0m \u001b[0msubclass\u001b[0m\u001b[1;33m)\u001b[0m\u001b[1;33m:\u001b[0m\u001b[1;33m\u001b[0m\u001b[1;33m\u001b[0m\u001b[0m\n\u001b[0;32m    122\u001b[0m             \u001b[1;34m\"\"\"Override for issubclass(subclass, cls).\"\"\"\u001b[0m\u001b[1;33m\u001b[0m\u001b[1;33m\u001b[0m\u001b[0m\n\u001b[1;32m--> 123\u001b[1;33m             \u001b[1;32mreturn\u001b[0m \u001b[0m_abc_subclasscheck\u001b[0m\u001b[1;33m(\u001b[0m\u001b[0mcls\u001b[0m\u001b[1;33m,\u001b[0m \u001b[0msubclass\u001b[0m\u001b[1;33m)\u001b[0m\u001b[1;33m\u001b[0m\u001b[1;33m\u001b[0m\u001b[0m\n\u001b[0m\u001b[0;32m    124\u001b[0m \u001b[1;33m\u001b[0m\u001b[0m\n\u001b[0;32m    125\u001b[0m         \u001b[1;32mdef\u001b[0m \u001b[0m_dump_registry\u001b[0m\u001b[1;33m(\u001b[0m\u001b[0mcls\u001b[0m\u001b[1;33m,\u001b[0m \u001b[0mfile\u001b[0m\u001b[1;33m=\u001b[0m\u001b[1;32mNone\u001b[0m\u001b[1;33m)\u001b[0m\u001b[1;33m:\u001b[0m\u001b[1;33m\u001b[0m\u001b[1;33m\u001b[0m\u001b[0m\n",
      "\u001b[1;31mKeyboardInterrupt\u001b[0m: "
     ]
    }
   ],
   "metadata": {}
  },
  {
   "cell_type": "code",
   "execution_count": 7,
   "source": [
    "from fetch_without_region import FetchDataRegionLess"
   ],
   "outputs": [],
   "metadata": {}
  },
  {
   "cell_type": "code",
   "execution_count": 7,
   "source": [
    "import geopandas as gpd"
   ],
   "outputs": [],
   "metadata": {}
  },
  {
   "cell_type": "code",
   "execution_count": 9,
   "source": [
    "MINX, MINY, MAXX, MAXY = [-93.756155, 41.918015, -93.747334, 41.921429]\r\n",
    "polygon = Polygon(((MINX, MINY), (MINX, MAXY), (MAXX, MAXY), (MAXX, MINY), (MINX, MINY)))\r\n",
    "\r\n",
    "grid = gpd.GeoDataFrame([polygon], columns=[\"geometry\"])\r\n",
    "grid.set_crs(epsg=4326, inplace=True)"
   ],
   "outputs": [
    {
     "output_type": "execute_result",
     "data": {
      "text/plain": [
       "                                            geometry\n",
       "0  POLYGON ((-93.75616 41.91801, -93.75616 41.921..."
      ],
      "text/html": [
       "<div>\n",
       "<style scoped>\n",
       "    .dataframe tbody tr th:only-of-type {\n",
       "        vertical-align: middle;\n",
       "    }\n",
       "\n",
       "    .dataframe tbody tr th {\n",
       "        vertical-align: top;\n",
       "    }\n",
       "\n",
       "    .dataframe thead th {\n",
       "        text-align: right;\n",
       "    }\n",
       "</style>\n",
       "<table border=\"1\" class=\"dataframe\">\n",
       "  <thead>\n",
       "    <tr style=\"text-align: right;\">\n",
       "      <th></th>\n",
       "      <th>geometry</th>\n",
       "    </tr>\n",
       "  </thead>\n",
       "  <tbody>\n",
       "    <tr>\n",
       "      <th>0</th>\n",
       "      <td>POLYGON ((-93.75616 41.91801, -93.75616 41.921...</td>\n",
       "    </tr>\n",
       "  </tbody>\n",
       "</table>\n",
       "</div>"
      ]
     },
     "metadata": {},
     "execution_count": 9
    }
   ],
   "metadata": {}
  },
  {
   "cell_type": "code",
   "execution_count": 10,
   "source": [
    "FetchDataRegionLess().fetch_elevation(grid,4326)"
   ],
   "outputs": [
    {
     "output_type": "stream",
     "name": "stdout",
     "text": [
      "Done with IA_FullState/\n",
      "Done with NE_Rainwater-2_2009/\n",
      "Done with SD_James_River_NRCS_J_2010/\n",
      "Done with SD_McCook_County_2012/\n",
      "Done with SD_Spink_County_2012/\n",
      "Done with USGS_LPC_FL_Lower_Choctawhatchee_2017_LAS_2019/\n"
     ]
    }
   ],
   "metadata": {}
  },
  {
   "cell_type": "code",
   "execution_count": 140,
   "source": [
    "matrix=FetchData(\"IA_FullState\").topographicWetnessIndex(data[0],1)"
   ],
   "outputs": [],
   "metadata": {}
  },
  {
   "cell_type": "code",
   "execution_count": 141,
   "source": [
    "matrix"
   ],
   "outputs": [
    {
     "output_type": "execute_result",
     "data": {
      "text/plain": [
       "array([[  0.        ,   0.        ,   0.        , ...,   0.        ,\n",
       "          0.        ,   0.        ],\n",
       "       [  0.        , 276.70082626, 301.22032208, ...,   0.        ,\n",
       "          0.        ,   0.        ],\n",
       "       [  0.        , 156.24275326, 316.71418676, ...,   0.        ,\n",
       "          0.        ,   0.        ],\n",
       "       ...,\n",
       "       [  0.        , 249.45311023, 454.4574084 , ...,   0.        ,\n",
       "          0.        ,   0.        ],\n",
       "       [  0.        ,   0.        ,   0.        , ...,   0.        ,\n",
       "          0.        ,   0.        ],\n",
       "       [  0.        ,   0.        ,   0.        , ...,   0.        ,\n",
       "          0.        ,   0.        ]])"
      ]
     },
     "metadata": {},
     "execution_count": 141
    }
   ],
   "metadata": {}
  },
  {
   "cell_type": "code",
   "execution_count": 143,
   "source": [
    "import matplotlib.pyplot as plt\r\n",
    "import matplotlib\r\n",
    "current_cmap = matplotlib.cm.get_cmap(\"Spectral_r\").copy()\r\n",
    "# current_cmap.set_bad(color='white')\r\n",
    "\r\n",
    "plt.imshow(matrix, cmap=\"Spectral_r\")\r\n",
    "plt.colorbar()\r\n",
    "plt.show()"
   ],
   "outputs": [
    {
     "output_type": "display_data",
     "data": {
      "text/plain": [
       "<Figure size 432x288 with 2 Axes>"
      ],
      "image/svg+xml": "<?xml version=\"1.0\" encoding=\"utf-8\" standalone=\"no\"?>\r\n<!DOCTYPE svg PUBLIC \"-//W3C//DTD SVG 1.1//EN\"\r\n  \"http://www.w3.org/Graphics/SVG/1.1/DTD/svg11.dtd\">\r\n<svg height=\"237.718906pt\" version=\"1.1\" viewBox=\"0 0 362.027 237.718906\" width=\"362.027pt\" xmlns=\"http://www.w3.org/2000/svg\" xmlns:xlink=\"http://www.w3.org/1999/xlink\">\r\n <metadata>\r\n  <rdf:RDF xmlns:cc=\"http://creativecommons.org/ns#\" xmlns:dc=\"http://purl.org/dc/elements/1.1/\" xmlns:rdf=\"http://www.w3.org/1999/02/22-rdf-syntax-ns#\">\r\n   <cc:Work>\r\n    <dc:type rdf:resource=\"http://purl.org/dc/dcmitype/StillImage\"/>\r\n    <dc:date>2021-08-22T20:53:15.984657</dc:date>\r\n    <dc:format>image/svg+xml</dc:format>\r\n    <dc:creator>\r\n     <cc:Agent>\r\n      <dc:title>Matplotlib v3.4.3, https://matplotlib.org/</dc:title>\r\n     </cc:Agent>\r\n    </dc:creator>\r\n   </cc:Work>\r\n  </rdf:RDF>\r\n </metadata>\r\n <defs>\r\n  <style type=\"text/css\">*{stroke-linecap:butt;stroke-linejoin:round;}</style>\r\n </defs>\r\n <g id=\"figure_1\">\r\n  <g id=\"patch_1\">\r\n   <path d=\"M 0 237.718906 \r\nL 362.027 237.718906 \r\nL 362.027 0 \r\nL 0 0 \r\nz\r\n\" style=\"fill:none;\"/>\r\n  </g>\r\n  <g id=\"axes_1\">\r\n   <g id=\"patch_2\">\r\n    <path d=\"M 33.2875 185.334745 \r\nL 301.1275 185.334745 \r\nL 301.1275 46.505255 \r\nL 33.2875 46.505255 \r\nz\r\n\" style=\"fill:#ffffff;\"/>\r\n   </g>\r\n   <g clip-path=\"url(#pf744bbf78b)\">\r\n    <image height=\"139\" id=\"image93c68d28fe\" transform=\"scale(1 -1)translate(0 -139)\" width=\"268\" x=\"33.2875\" xlink:href=\"data:image/png;base64,\r\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\" y=\"-46.334745\"/>\r\n   </g>\r\n   <g id=\"matplotlib.axis_1\">\r\n    <g id=\"xtick_1\">\r\n     <g id=\"line2d_1\">\r\n      <defs>\r\n       <path d=\"M 0 0 \r\nL 0 3.5 \r\n\" id=\"m68715234d5\" style=\"stroke:#000000;stroke-width:0.8;\"/>\r\n      </defs>\r\n      <g>\r\n       <use style=\"stroke:#000000;stroke-width:0.8;\" x=\"33.423875\" xlink:href=\"#m68715234d5\" y=\"185.334745\"/>\r\n      </g>\r\n     </g>\r\n     <g id=\"text_1\">\r\n      <!-- 0 -->\r\n      <g transform=\"translate(30.242625 199.933183)scale(0.1 -0.1)\">\r\n       <defs>\r\n        <path d=\"M 2034 4250 \r\nQ 1547 4250 1301 3770 \r\nQ 1056 3291 1056 2328 \r\nQ 1056 1369 1301 889 \r\nQ 1547 409 2034 409 \r\nQ 2525 409 2770 889 \r\nQ 3016 1369 3016 2328 \r\nQ 3016 3291 2770 3770 \r\nQ 2525 4250 2034 4250 \r\nz\r\nM 2034 4750 \r\nQ 2819 4750 3233 4129 \r\nQ 3647 3509 3647 2328 \r\nQ 3647 1150 3233 529 \r\nQ 2819 -91 2034 -91 \r\nQ 1250 -91 836 529 \r\nQ 422 1150 422 2328 \r\nQ 422 3509 836 4129 \r\nQ 1250 4750 2034 4750 \r\nz\r\n\" id=\"DejaVuSans-30\" transform=\"scale(0.015625)\"/>\r\n       </defs>\r\n       <use xlink:href=\"#DejaVuSans-30\"/>\r\n      </g>\r\n     </g>\r\n    </g>\r\n    <g id=\"xtick_2\">\r\n     <g id=\"line2d_2\">\r\n      <g>\r\n       <use style=\"stroke:#000000;stroke-width:0.8;\" x=\"87.973773\" xlink:href=\"#m68715234d5\" y=\"185.334745\"/>\r\n      </g>\r\n     </g>\r\n     <g id=\"text_2\">\r\n      <!-- 200 -->\r\n      <g transform=\"translate(78.430023 199.933183)scale(0.1 -0.1)\">\r\n       <defs>\r\n        <path d=\"M 1228 531 \r\nL 3431 531 \r\nL 3431 0 \r\nL 469 0 \r\nL 469 531 \r\nQ 828 903 1448 1529 \r\nQ 2069 2156 2228 2338 \r\nQ 2531 2678 2651 2914 \r\nQ 2772 3150 2772 3378 \r\nQ 2772 3750 2511 3984 \r\nQ 2250 4219 1831 4219 \r\nQ 1534 4219 1204 4116 \r\nQ 875 4013 500 3803 \r\nL 500 4441 \r\nQ 881 4594 1212 4672 \r\nQ 1544 4750 1819 4750 \r\nQ 2544 4750 2975 4387 \r\nQ 3406 4025 3406 3419 \r\nQ 3406 3131 3298 2873 \r\nQ 3191 2616 2906 2266 \r\nQ 2828 2175 2409 1742 \r\nQ 1991 1309 1228 531 \r\nz\r\n\" id=\"DejaVuSans-32\" transform=\"scale(0.015625)\"/>\r\n       </defs>\r\n       <use xlink:href=\"#DejaVuSans-32\"/>\r\n       <use x=\"63.623047\" xlink:href=\"#DejaVuSans-30\"/>\r\n       <use x=\"127.246094\" xlink:href=\"#DejaVuSans-30\"/>\r\n      </g>\r\n     </g>\r\n    </g>\r\n    <g id=\"xtick_3\">\r\n     <g id=\"line2d_3\">\r\n      <g>\r\n       <use style=\"stroke:#000000;stroke-width:0.8;\" x=\"142.523671\" xlink:href=\"#m68715234d5\" y=\"185.334745\"/>\r\n      </g>\r\n     </g>\r\n     <g id=\"text_3\">\r\n      <!-- 400 -->\r\n      <g transform=\"translate(132.979921 199.933183)scale(0.1 -0.1)\">\r\n       <defs>\r\n        <path d=\"M 2419 4116 \r\nL 825 1625 \r\nL 2419 1625 \r\nL 2419 4116 \r\nz\r\nM 2253 4666 \r\nL 3047 4666 \r\nL 3047 1625 \r\nL 3713 1625 \r\nL 3713 1100 \r\nL 3047 1100 \r\nL 3047 0 \r\nL 2419 0 \r\nL 2419 1100 \r\nL 313 1100 \r\nL 313 1709 \r\nL 2253 4666 \r\nz\r\n\" id=\"DejaVuSans-34\" transform=\"scale(0.015625)\"/>\r\n       </defs>\r\n       <use xlink:href=\"#DejaVuSans-34\"/>\r\n       <use x=\"63.623047\" xlink:href=\"#DejaVuSans-30\"/>\r\n       <use x=\"127.246094\" xlink:href=\"#DejaVuSans-30\"/>\r\n      </g>\r\n     </g>\r\n    </g>\r\n    <g id=\"xtick_4\">\r\n     <g id=\"line2d_4\">\r\n      <g>\r\n       <use style=\"stroke:#000000;stroke-width:0.8;\" x=\"197.073569\" xlink:href=\"#m68715234d5\" y=\"185.334745\"/>\r\n      </g>\r\n     </g>\r\n     <g id=\"text_4\">\r\n      <!-- 600 -->\r\n      <g transform=\"translate(187.529819 199.933183)scale(0.1 -0.1)\">\r\n       <defs>\r\n        <path d=\"M 2113 2584 \r\nQ 1688 2584 1439 2293 \r\nQ 1191 2003 1191 1497 \r\nQ 1191 994 1439 701 \r\nQ 1688 409 2113 409 \r\nQ 2538 409 2786 701 \r\nQ 3034 994 3034 1497 \r\nQ 3034 2003 2786 2293 \r\nQ 2538 2584 2113 2584 \r\nz\r\nM 3366 4563 \r\nL 3366 3988 \r\nQ 3128 4100 2886 4159 \r\nQ 2644 4219 2406 4219 \r\nQ 1781 4219 1451 3797 \r\nQ 1122 3375 1075 2522 \r\nQ 1259 2794 1537 2939 \r\nQ 1816 3084 2150 3084 \r\nQ 2853 3084 3261 2657 \r\nQ 3669 2231 3669 1497 \r\nQ 3669 778 3244 343 \r\nQ 2819 -91 2113 -91 \r\nQ 1303 -91 875 529 \r\nQ 447 1150 447 2328 \r\nQ 447 3434 972 4092 \r\nQ 1497 4750 2381 4750 \r\nQ 2619 4750 2861 4703 \r\nQ 3103 4656 3366 4563 \r\nz\r\n\" id=\"DejaVuSans-36\" transform=\"scale(0.015625)\"/>\r\n       </defs>\r\n       <use xlink:href=\"#DejaVuSans-36\"/>\r\n       <use x=\"63.623047\" xlink:href=\"#DejaVuSans-30\"/>\r\n       <use x=\"127.246094\" xlink:href=\"#DejaVuSans-30\"/>\r\n      </g>\r\n     </g>\r\n    </g>\r\n    <g id=\"xtick_5\">\r\n     <g id=\"line2d_5\">\r\n      <g>\r\n       <use style=\"stroke:#000000;stroke-width:0.8;\" x=\"251.623467\" xlink:href=\"#m68715234d5\" y=\"185.334745\"/>\r\n      </g>\r\n     </g>\r\n     <g id=\"text_5\">\r\n      <!-- 800 -->\r\n      <g transform=\"translate(242.079717 199.933183)scale(0.1 -0.1)\">\r\n       <defs>\r\n        <path d=\"M 2034 2216 \r\nQ 1584 2216 1326 1975 \r\nQ 1069 1734 1069 1313 \r\nQ 1069 891 1326 650 \r\nQ 1584 409 2034 409 \r\nQ 2484 409 2743 651 \r\nQ 3003 894 3003 1313 \r\nQ 3003 1734 2745 1975 \r\nQ 2488 2216 2034 2216 \r\nz\r\nM 1403 2484 \r\nQ 997 2584 770 2862 \r\nQ 544 3141 544 3541 \r\nQ 544 4100 942 4425 \r\nQ 1341 4750 2034 4750 \r\nQ 2731 4750 3128 4425 \r\nQ 3525 4100 3525 3541 \r\nQ 3525 3141 3298 2862 \r\nQ 3072 2584 2669 2484 \r\nQ 3125 2378 3379 2068 \r\nQ 3634 1759 3634 1313 \r\nQ 3634 634 3220 271 \r\nQ 2806 -91 2034 -91 \r\nQ 1263 -91 848 271 \r\nQ 434 634 434 1313 \r\nQ 434 1759 690 2068 \r\nQ 947 2378 1403 2484 \r\nz\r\nM 1172 3481 \r\nQ 1172 3119 1398 2916 \r\nQ 1625 2713 2034 2713 \r\nQ 2441 2713 2670 2916 \r\nQ 2900 3119 2900 3481 \r\nQ 2900 3844 2670 4047 \r\nQ 2441 4250 2034 4250 \r\nQ 1625 4250 1398 4047 \r\nQ 1172 3844 1172 3481 \r\nz\r\n\" id=\"DejaVuSans-38\" transform=\"scale(0.015625)\"/>\r\n       </defs>\r\n       <use xlink:href=\"#DejaVuSans-38\"/>\r\n       <use x=\"63.623047\" xlink:href=\"#DejaVuSans-30\"/>\r\n       <use x=\"127.246094\" xlink:href=\"#DejaVuSans-30\"/>\r\n      </g>\r\n     </g>\r\n    </g>\r\n   </g>\r\n   <g id=\"matplotlib.axis_2\">\r\n    <g id=\"ytick_1\">\r\n     <g id=\"line2d_6\">\r\n      <defs>\r\n       <path d=\"M 0 0 \r\nL -3.5 0 \r\n\" id=\"m8fb31db164\" style=\"stroke:#000000;stroke-width:0.8;\"/>\r\n      </defs>\r\n      <g>\r\n       <use style=\"stroke:#000000;stroke-width:0.8;\" x=\"33.2875\" xlink:href=\"#m8fb31db164\" y=\"46.641629\"/>\r\n      </g>\r\n     </g>\r\n     <g id=\"text_6\">\r\n      <!-- 0 -->\r\n      <g transform=\"translate(19.925 50.440848)scale(0.1 -0.1)\">\r\n       <use xlink:href=\"#DejaVuSans-30\"/>\r\n      </g>\r\n     </g>\r\n    </g>\r\n    <g id=\"ytick_2\">\r\n     <g id=\"line2d_7\">\r\n      <g>\r\n       <use style=\"stroke:#000000;stroke-width:0.8;\" x=\"33.2875\" xlink:href=\"#m8fb31db164\" y=\"73.916578\"/>\r\n      </g>\r\n     </g>\r\n     <g id=\"text_7\">\r\n      <!-- 100 -->\r\n      <g transform=\"translate(7.2 77.715797)scale(0.1 -0.1)\">\r\n       <defs>\r\n        <path d=\"M 794 531 \r\nL 1825 531 \r\nL 1825 4091 \r\nL 703 3866 \r\nL 703 4441 \r\nL 1819 4666 \r\nL 2450 4666 \r\nL 2450 531 \r\nL 3481 531 \r\nL 3481 0 \r\nL 794 0 \r\nL 794 531 \r\nz\r\n\" id=\"DejaVuSans-31\" transform=\"scale(0.015625)\"/>\r\n       </defs>\r\n       <use xlink:href=\"#DejaVuSans-31\"/>\r\n       <use x=\"63.623047\" xlink:href=\"#DejaVuSans-30\"/>\r\n       <use x=\"127.246094\" xlink:href=\"#DejaVuSans-30\"/>\r\n      </g>\r\n     </g>\r\n    </g>\r\n    <g id=\"ytick_3\">\r\n     <g id=\"line2d_8\">\r\n      <g>\r\n       <use style=\"stroke:#000000;stroke-width:0.8;\" x=\"33.2875\" xlink:href=\"#m8fb31db164\" y=\"101.191527\"/>\r\n      </g>\r\n     </g>\r\n     <g id=\"text_8\">\r\n      <!-- 200 -->\r\n      <g transform=\"translate(7.2 104.990746)scale(0.1 -0.1)\">\r\n       <use xlink:href=\"#DejaVuSans-32\"/>\r\n       <use x=\"63.623047\" xlink:href=\"#DejaVuSans-30\"/>\r\n       <use x=\"127.246094\" xlink:href=\"#DejaVuSans-30\"/>\r\n      </g>\r\n     </g>\r\n    </g>\r\n    <g id=\"ytick_4\">\r\n     <g id=\"line2d_9\">\r\n      <g>\r\n       <use style=\"stroke:#000000;stroke-width:0.8;\" x=\"33.2875\" xlink:href=\"#m8fb31db164\" y=\"128.466477\"/>\r\n      </g>\r\n     </g>\r\n     <g id=\"text_9\">\r\n      <!-- 300 -->\r\n      <g transform=\"translate(7.2 132.265695)scale(0.1 -0.1)\">\r\n       <defs>\r\n        <path d=\"M 2597 2516 \r\nQ 3050 2419 3304 2112 \r\nQ 3559 1806 3559 1356 \r\nQ 3559 666 3084 287 \r\nQ 2609 -91 1734 -91 \r\nQ 1441 -91 1130 -33 \r\nQ 819 25 488 141 \r\nL 488 750 \r\nQ 750 597 1062 519 \r\nQ 1375 441 1716 441 \r\nQ 2309 441 2620 675 \r\nQ 2931 909 2931 1356 \r\nQ 2931 1769 2642 2001 \r\nQ 2353 2234 1838 2234 \r\nL 1294 2234 \r\nL 1294 2753 \r\nL 1863 2753 \r\nQ 2328 2753 2575 2939 \r\nQ 2822 3125 2822 3475 \r\nQ 2822 3834 2567 4026 \r\nQ 2313 4219 1838 4219 \r\nQ 1578 4219 1281 4162 \r\nQ 984 4106 628 3988 \r\nL 628 4550 \r\nQ 988 4650 1302 4700 \r\nQ 1616 4750 1894 4750 \r\nQ 2613 4750 3031 4423 \r\nQ 3450 4097 3450 3541 \r\nQ 3450 3153 3228 2886 \r\nQ 3006 2619 2597 2516 \r\nz\r\n\" id=\"DejaVuSans-33\" transform=\"scale(0.015625)\"/>\r\n       </defs>\r\n       <use xlink:href=\"#DejaVuSans-33\"/>\r\n       <use x=\"63.623047\" xlink:href=\"#DejaVuSans-30\"/>\r\n       <use x=\"127.246094\" xlink:href=\"#DejaVuSans-30\"/>\r\n      </g>\r\n     </g>\r\n    </g>\r\n    <g id=\"ytick_5\">\r\n     <g id=\"line2d_10\">\r\n      <g>\r\n       <use style=\"stroke:#000000;stroke-width:0.8;\" x=\"33.2875\" xlink:href=\"#m8fb31db164\" y=\"155.741426\"/>\r\n      </g>\r\n     </g>\r\n     <g id=\"text_10\">\r\n      <!-- 400 -->\r\n      <g transform=\"translate(7.2 159.540644)scale(0.1 -0.1)\">\r\n       <use xlink:href=\"#DejaVuSans-34\"/>\r\n       <use x=\"63.623047\" xlink:href=\"#DejaVuSans-30\"/>\r\n       <use x=\"127.246094\" xlink:href=\"#DejaVuSans-30\"/>\r\n      </g>\r\n     </g>\r\n    </g>\r\n    <g id=\"ytick_6\">\r\n     <g id=\"line2d_11\">\r\n      <g>\r\n       <use style=\"stroke:#000000;stroke-width:0.8;\" x=\"33.2875\" xlink:href=\"#m8fb31db164\" y=\"183.016375\"/>\r\n      </g>\r\n     </g>\r\n     <g id=\"text_11\">\r\n      <!-- 500 -->\r\n      <g transform=\"translate(7.2 186.815593)scale(0.1 -0.1)\">\r\n       <defs>\r\n        <path d=\"M 691 4666 \r\nL 3169 4666 \r\nL 3169 4134 \r\nL 1269 4134 \r\nL 1269 2991 \r\nQ 1406 3038 1543 3061 \r\nQ 1681 3084 1819 3084 \r\nQ 2600 3084 3056 2656 \r\nQ 3513 2228 3513 1497 \r\nQ 3513 744 3044 326 \r\nQ 2575 -91 1722 -91 \r\nQ 1428 -91 1123 -41 \r\nQ 819 9 494 109 \r\nL 494 744 \r\nQ 775 591 1075 516 \r\nQ 1375 441 1709 441 \r\nQ 2250 441 2565 725 \r\nQ 2881 1009 2881 1497 \r\nQ 2881 1984 2565 2268 \r\nQ 2250 2553 1709 2553 \r\nQ 1456 2553 1204 2497 \r\nQ 953 2441 691 2322 \r\nL 691 4666 \r\nz\r\n\" id=\"DejaVuSans-35\" transform=\"scale(0.015625)\"/>\r\n       </defs>\r\n       <use xlink:href=\"#DejaVuSans-35\"/>\r\n       <use x=\"63.623047\" xlink:href=\"#DejaVuSans-30\"/>\r\n       <use x=\"127.246094\" xlink:href=\"#DejaVuSans-30\"/>\r\n      </g>\r\n     </g>\r\n    </g>\r\n   </g>\r\n   <g id=\"patch_3\">\r\n    <path d=\"M 33.2875 185.334745 \r\nL 33.2875 46.505255 \r\n\" style=\"fill:none;stroke:#000000;stroke-linecap:square;stroke-linejoin:miter;stroke-width:0.8;\"/>\r\n   </g>\r\n   <g id=\"patch_4\">\r\n    <path d=\"M 301.1275 185.334745 \r\nL 301.1275 46.505255 \r\n\" style=\"fill:none;stroke:#000000;stroke-linecap:square;stroke-linejoin:miter;stroke-width:0.8;\"/>\r\n   </g>\r\n   <g id=\"patch_5\">\r\n    <path d=\"M 33.2875 185.334745 \r\nL 301.1275 185.334745 \r\n\" style=\"fill:none;stroke:#000000;stroke-linecap:square;stroke-linejoin:miter;stroke-width:0.8;\"/>\r\n   </g>\r\n   <g id=\"patch_6\">\r\n    <path d=\"M 33.2875 46.505255 \r\nL 301.1275 46.505255 \r\n\" style=\"fill:none;stroke:#000000;stroke-linecap:square;stroke-linejoin:miter;stroke-width:0.8;\"/>\r\n   </g>\r\n  </g>\r\n  <g id=\"axes_2\">\r\n   <g id=\"patch_7\">\r\n    <path d=\"M 317.8675 224.64 \r\nL 328.7395 224.64 \r\nL 328.7395 7.2 \r\nL 317.8675 7.2 \r\nz\r\n\" style=\"fill:#ffffff;\"/>\r\n   </g>\r\n   <g id=\"patch_8\">\r\n    <path clip-path=\"url(#p3aa451b266)\" d=\"M 317.8675 224.64 \r\nL 317.8675 223.790625 \r\nL 317.8675 8.049375 \r\nL 317.8675 7.2 \r\nL 328.7395 7.2 \r\nL 328.7395 8.049375 \r\nL 328.7395 223.790625 \r\nL 328.7395 224.64 \r\nL 328.7395 224.64 \r\nz\r\n\" style=\"fill:#ffffff;stroke:#ffffff;stroke-linejoin:miter;stroke-width:0.01;\"/>\r\n   </g>\r\n   <image height=\"218\" id=\"image44180a3f24\" transform=\"scale(1 -1)translate(0 -218)\" width=\"11\" x=\"318\" xlink:href=\"data:image/png;base64,\r\niVBORw0KGgoAAAANSUhEUgAAAAsAAADaCAYAAABwzrisAAABdUlEQVR4nO2ZQQ7CQAwDs9v0ffyAx/HNZhOucNs5WAqonC0rnpi0iPF8vMo2P55z7GrNi4jjnPti3Rh5EDFyniDgakKjB7rlKhpoZh063bqNiOfcvgTm8yBi4uxnipyFYh0NBzQO2Rg6Gu4txmhSJFR+cL3MwSWAzkgMTp1yDPA01tIA3RDSuLvxIdbRQAHnUHUDOUMa5NbJyo9mbsIZnQJdQNDQRutu0We4lGNfPAz8QBgDvPMzZyPOAzhDGrKAMnTCgITzve4vMVm37V8Cc8sgzuCdn4lT5ozEqwcNIq5awBlx/vtuoIBNKso2CN4KLBAN4sxmlgVEzqH6WlX1QCcL+JPd6FH+WsiZiIlzXeihSQLKZkY06iLlR+h0AWVj6GiwpQjLTypKyg8e3eaV5I855FzEOWRjkIAMHQmInBeh0SQgWgpaN5o5e9DQrTvJRUJLWeR85f55Nk/iHJcqIEIHzjN0jmjBWRcQLQWumwSUoZMt5Q3pLS1VBLVwQwAAAABJRU5ErkJggg==\" y=\"-6\"/>\r\n   <g id=\"matplotlib.axis_3\"/>\r\n   <g id=\"matplotlib.axis_4\">\r\n    <g id=\"ytick_7\">\r\n     <g id=\"line2d_12\">\r\n      <defs>\r\n       <path d=\"M 0 0 \r\nL 3.5 0 \r\n\" id=\"m3173e9a182\" style=\"stroke:#000000;stroke-width:0.8;\"/>\r\n      </defs>\r\n      <g>\r\n       <use style=\"stroke:#000000;stroke-width:0.8;\" x=\"328.7395\" xlink:href=\"#m3173e9a182\" y=\"224.64\"/>\r\n      </g>\r\n     </g>\r\n     <g id=\"text_12\">\r\n      <!-- 0 -->\r\n      <g transform=\"translate(335.7395 228.439219)scale(0.1 -0.1)\">\r\n       <use xlink:href=\"#DejaVuSans-30\"/>\r\n      </g>\r\n     </g>\r\n    </g>\r\n    <g id=\"ytick_8\">\r\n     <g id=\"line2d_13\">\r\n      <g>\r\n       <use style=\"stroke:#000000;stroke-width:0.8;\" x=\"328.7395\" xlink:href=\"#m3173e9a182\" y=\"192.167241\"/>\r\n      </g>\r\n     </g>\r\n     <g id=\"text_13\">\r\n      <!-- 100 -->\r\n      <g transform=\"translate(335.7395 195.96646)scale(0.1 -0.1)\">\r\n       <use xlink:href=\"#DejaVuSans-31\"/>\r\n       <use x=\"63.623047\" xlink:href=\"#DejaVuSans-30\"/>\r\n       <use x=\"127.246094\" xlink:href=\"#DejaVuSans-30\"/>\r\n      </g>\r\n     </g>\r\n    </g>\r\n    <g id=\"ytick_9\">\r\n     <g id=\"line2d_14\">\r\n      <g>\r\n       <use style=\"stroke:#000000;stroke-width:0.8;\" x=\"328.7395\" xlink:href=\"#m3173e9a182\" y=\"159.694482\"/>\r\n      </g>\r\n     </g>\r\n     <g id=\"text_14\">\r\n      <!-- 200 -->\r\n      <g transform=\"translate(335.7395 163.4937)scale(0.1 -0.1)\">\r\n       <use xlink:href=\"#DejaVuSans-32\"/>\r\n       <use x=\"63.623047\" xlink:href=\"#DejaVuSans-30\"/>\r\n       <use x=\"127.246094\" xlink:href=\"#DejaVuSans-30\"/>\r\n      </g>\r\n     </g>\r\n    </g>\r\n    <g id=\"ytick_10\">\r\n     <g id=\"line2d_15\">\r\n      <g>\r\n       <use style=\"stroke:#000000;stroke-width:0.8;\" x=\"328.7395\" xlink:href=\"#m3173e9a182\" y=\"127.221722\"/>\r\n      </g>\r\n     </g>\r\n     <g id=\"text_15\">\r\n      <!-- 300 -->\r\n      <g transform=\"translate(335.7395 131.020941)scale(0.1 -0.1)\">\r\n       <use xlink:href=\"#DejaVuSans-33\"/>\r\n       <use x=\"63.623047\" xlink:href=\"#DejaVuSans-30\"/>\r\n       <use x=\"127.246094\" xlink:href=\"#DejaVuSans-30\"/>\r\n      </g>\r\n     </g>\r\n    </g>\r\n    <g id=\"ytick_11\">\r\n     <g id=\"line2d_16\">\r\n      <g>\r\n       <use style=\"stroke:#000000;stroke-width:0.8;\" x=\"328.7395\" xlink:href=\"#m3173e9a182\" y=\"94.748963\"/>\r\n      </g>\r\n     </g>\r\n     <g id=\"text_16\">\r\n      <!-- 400 -->\r\n      <g transform=\"translate(335.7395 98.548182)scale(0.1 -0.1)\">\r\n       <use xlink:href=\"#DejaVuSans-34\"/>\r\n       <use x=\"63.623047\" xlink:href=\"#DejaVuSans-30\"/>\r\n       <use x=\"127.246094\" xlink:href=\"#DejaVuSans-30\"/>\r\n      </g>\r\n     </g>\r\n    </g>\r\n    <g id=\"ytick_12\">\r\n     <g id=\"line2d_17\">\r\n      <g>\r\n       <use style=\"stroke:#000000;stroke-width:0.8;\" x=\"328.7395\" xlink:href=\"#m3173e9a182\" y=\"62.276204\"/>\r\n      </g>\r\n     </g>\r\n     <g id=\"text_17\">\r\n      <!-- 500 -->\r\n      <g transform=\"translate(335.7395 66.075423)scale(0.1 -0.1)\">\r\n       <use xlink:href=\"#DejaVuSans-35\"/>\r\n       <use x=\"63.623047\" xlink:href=\"#DejaVuSans-30\"/>\r\n       <use x=\"127.246094\" xlink:href=\"#DejaVuSans-30\"/>\r\n      </g>\r\n     </g>\r\n    </g>\r\n    <g id=\"ytick_13\">\r\n     <g id=\"line2d_18\">\r\n      <g>\r\n       <use style=\"stroke:#000000;stroke-width:0.8;\" x=\"328.7395\" xlink:href=\"#m3173e9a182\" y=\"29.803445\"/>\r\n      </g>\r\n     </g>\r\n     <g id=\"text_18\">\r\n      <!-- 600 -->\r\n      <g transform=\"translate(335.7395 33.602664)scale(0.1 -0.1)\">\r\n       <use xlink:href=\"#DejaVuSans-36\"/>\r\n       <use x=\"63.623047\" xlink:href=\"#DejaVuSans-30\"/>\r\n       <use x=\"127.246094\" xlink:href=\"#DejaVuSans-30\"/>\r\n      </g>\r\n     </g>\r\n    </g>\r\n   </g>\r\n   <g id=\"LineCollection_1\"/>\r\n   <g id=\"patch_9\">\r\n    <path d=\"M 317.8675 224.64 \r\nL 317.8675 223.790625 \r\nL 317.8675 8.049375 \r\nL 317.8675 7.2 \r\nL 328.7395 7.2 \r\nL 328.7395 8.049375 \r\nL 328.7395 223.790625 \r\nL 328.7395 224.64 \r\nz\r\n\" style=\"fill:none;stroke:#000000;stroke-linecap:square;stroke-linejoin:miter;stroke-width:0.8;\"/>\r\n   </g>\r\n  </g>\r\n </g>\r\n <defs>\r\n  <clipPath id=\"pf744bbf78b\">\r\n   <rect height=\"138.829491\" width=\"267.84\" x=\"33.2875\" y=\"46.505255\"/>\r\n  </clipPath>\r\n  <clipPath id=\"p3aa451b266\">\r\n   <rect height=\"217.44\" width=\"10.872\" x=\"317.8675\" y=\"7.2\"/>\r\n  </clipPath>\r\n </defs>\r\n</svg>\r\n",
      "image/png": "[encoded data removed]"
     },
     "metadata": {
      "needs_background": "light"
     }
    }
   ],
   "metadata": {}
  }
 ],
 "metadata": {
  "orig_nbformat": 4,
  "language_info": {
   "name": "python",
   "version": "3.9.6",
   "mimetype": "text/x-python",
   "codemirror_mode": {
    "name": "ipython",
    "version": 3
   },
   "pygments_lexer": "ipython3",
   "nbconvert_exporter": "python",
   "file_extension": ".py"
  },
  "kernelspec": {
   "name": "python3",
   "display_name": "Python 3.9.6 64-bit ('pdalworkshop': conda)"
  },
  "interpreter": {
   "hash": "0ffe4da897568b2225103fd00e2a27e80fae173a7fc6795dc8c4ad7869bd7164"
  }
 },
 "nbformat": 4,
 "nbformat_minor": 2
}