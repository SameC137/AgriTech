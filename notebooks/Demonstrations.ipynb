{
 "cells": [
  {
   "cell_type": "code",
   "execution_count": 22,
   "source": [
    "\r\n",
    "import sys, os\r\n",
    "\r\n",
    "sys.path.append(os.path.abspath(os.path.join('../scripts')))\r\n"
   ],
   "outputs": [],
   "metadata": {}
  },
  {
   "cell_type": "code",
   "execution_count": 23,
   "source": [
    "import importlib\r\n",
    "import fetch\r\n",
    "importlib.reload(fetch)\r\n",
    "from fetch import FetchData"
   ],
   "outputs": [],
   "metadata": {}
  },
  {
   "cell_type": "code",
   "execution_count": 24,
   "source": [
    "from shapely.geometry import shape, GeometryCollection, Polygon,Point"
   ],
   "outputs": [],
   "metadata": {}
  },
  {
   "cell_type": "code",
   "execution_count": 25,
   "source": [
    "import pyproj"
   ],
   "outputs": [],
   "metadata": {}
  },
  {
   "cell_type": "code",
   "execution_count": 26,
   "source": [
    "MINX, MINY, MAXX, MAXY = [-93.756155, 41.918015, -93.747334, 41.921429]\r\n",
    "polygon = Polygon(((MINX, MINY), (MINX, MAXY), (MAXX, MAXY), (MAXX, MINY), (MINX, MINY)))\r\n",
    "\r\n",
    "data=FetchData(\"IA_FullState\").fetch_elevation(polygon,\"EPSG:4326\")"
   ],
   "outputs": [],
   "metadata": {}
  },
  {
   "cell_type": "code",
   "execution_count": 27,
   "source": [
    "data[0].describe()"
   ],
   "outputs": [
    {
     "output_type": "execute_result",
     "data": {
      "text/plain": [
       "           elevation\n",
       "count  189060.000000\n",
       "mean      316.202441\n",
       "std         2.537666\n",
       "min       306.290000\n",
       "25%       315.080000\n",
       "50%       317.150000\n",
       "75%       317.940000\n",
       "max       319.760000"
      ],
      "text/html": [
       "<div>\n",
       "<style scoped>\n",
       "    .dataframe tbody tr th:only-of-type {\n",
       "        vertical-align: middle;\n",
       "    }\n",
       "\n",
       "    .dataframe tbody tr th {\n",
       "        vertical-align: top;\n",
       "    }\n",
       "\n",
       "    .dataframe thead th {\n",
       "        text-align: right;\n",
       "    }\n",
       "</style>\n",
       "<table border=\"1\" class=\"dataframe\">\n",
       "  <thead>\n",
       "    <tr style=\"text-align: right;\">\n",
       "      <th></th>\n",
       "      <th>elevation</th>\n",
       "    </tr>\n",
       "  </thead>\n",
       "  <tbody>\n",
       "    <tr>\n",
       "      <th>count</th>\n",
       "      <td>189060.000000</td>\n",
       "    </tr>\n",
       "    <tr>\n",
       "      <th>mean</th>\n",
       "      <td>316.202441</td>\n",
       "    </tr>\n",
       "    <tr>\n",
       "      <th>std</th>\n",
       "      <td>2.537666</td>\n",
       "    </tr>\n",
       "    <tr>\n",
       "      <th>min</th>\n",
       "      <td>306.290000</td>\n",
       "    </tr>\n",
       "    <tr>\n",
       "      <th>25%</th>\n",
       "      <td>315.080000</td>\n",
       "    </tr>\n",
       "    <tr>\n",
       "      <th>50%</th>\n",
       "      <td>317.150000</td>\n",
       "    </tr>\n",
       "    <tr>\n",
       "      <th>75%</th>\n",
       "      <td>317.940000</td>\n",
       "    </tr>\n",
       "    <tr>\n",
       "      <th>max</th>\n",
       "      <td>319.760000</td>\n",
       "    </tr>\n",
       "  </tbody>\n",
       "</table>\n",
       "</div>"
      ]
     },
     "metadata": {},
     "execution_count": 27
    }
   ],
   "metadata": {}
  },
  {
   "cell_type": "code",
   "execution_count": null,
   "source": [
    "data[0].head()"
   ],
   "outputs": [],
   "metadata": {}
  },
  {
   "cell_type": "code",
   "execution_count": null,
   "source": [
    "%matplotlib widget\r\n",
    "import matplotlib.pyplot as plt\r\n",
    "from mpl_toolkits.mplot3d import axes3d\r\n",
    "fig = plt.figure()\r\n",
    "ax = fig.add_subplot(111,projection='3d')\r\n",
    "ax.scatter( data[0].geometry.x,\r\n",
    "           data[0].geometry.y,data[0].elevation, cmap='Spectral_r',s=0.001, c=data[0].elevation)\r\n",
    "\r\n",
    "plt.show()"
   ],
   "outputs": [],
   "metadata": {}
  },
  {
   "cell_type": "code",
   "execution_count": null,
   "source": [
    "# import geoplot\r\n",
    "# import geoplot.crs as gcrs\r\n",
    "# geoplot.kdeplot(data[0],shade=True, cmap='Spectral_r',projection=gcrs.WebMercator(), shade_lowest=True)"
   ],
   "outputs": [],
   "metadata": {}
  },
  {
   "cell_type": "code",
   "execution_count": null,
   "source": [
    "# import numpy as np\r\n",
    "# x=data[0].geometry.x\r\n",
    "# y=data[0].geometry.y\r\n",
    "# z = np.array(data[0].elevation)\r\n",
    "\r\n",
    "# z = z.reshape((len(x), len(y)))\r\n",
    "# plt.contour(x,y,z, colors='black');"
   ],
   "outputs": [],
   "metadata": {}
  },
  {
   "cell_type": "code",
   "execution_count": null,
   "source": [
    "import matplotlib.pyplot as plt\r\n",
    "fig, ax = plt.subplots(1, 1)\r\n",
    "\r\n",
    "\r\n",
    "data[0].plot(column='elevation',  cmap = 'Spectral_r', ax=ax, legend=True)\r\n",
    "plt.show()"
   ],
   "outputs": [],
   "metadata": {}
  },
  {
   "cell_type": "code",
   "execution_count": null,
   "source": [],
   "outputs": [],
   "metadata": {}
  },
  {
   "cell_type": "code",
   "execution_count": 28,
   "source": [
    "import numpy as np\r\n",
    "from scipy.interpolate import griddata\r\n",
    "\r\n",
    "data_meters= data[0].to_crs({'init': 'epsg:3395'})\r\n",
    "\r\n",
    "points = [[i.x,i.y] for i in data_meters.geometry.values]\r\n",
    "values = data_meters['elevation'].values"
   ],
   "outputs": [
    {
     "output_type": "stream",
     "name": "stderr",
     "text": [
      "D:\\Users\\same\\anaconda3\\envs\\pdalworkshop\\lib\\site-packages\\pyproj\\crs\\crs.py:68: FutureWarning: '+init=<authority>:<code>' syntax is deprecated. '<authority>:<code>' is the preferred initialization method. When making the change, be mindful of axis order changes: https://pyproj4.github.io/pyproj/stable/gotchas.html#axis-order-changes-in-proj-6\n",
      "  return _prepare_from_string(\" \".join(pjargs))\n"
     ]
    }
   ],
   "metadata": {}
  },
  {
   "cell_type": "code",
   "execution_count": null,
   "source": [
    "from math import floor"
   ],
   "outputs": [],
   "metadata": {}
  },
  {
   "cell_type": "code",
   "execution_count": null,
   "source": [
    "xDim = floor(data_meters.total_bounds[2])-floor(data_meters.total_bounds[0])\r\n",
    "yDim = floor(data_meters.total_bounds[3])-floor(data_meters.total_bounds[1])\r\n",
    "rasterRes = 2\r\n",
    "nCols = xDim / rasterRes\r\n",
    "nRows = yDim / rasterRes\r\n",
    "\r\n",
    "print('Raster X Dim: %.2f, Raster Y Dim: %.2f'%(xDim,yDim))\r\n",
    "print('Number of cols:  %.2f, Number of rows: %.2f'%(nCols,nRows)) #Check if the cols and row don't have decimals"
   ],
   "outputs": [],
   "metadata": {}
  },
  {
   "cell_type": "code",
   "execution_count": null,
   "source": [
    "grid_y, grid_x = np.mgrid[floor(data_meters.total_bounds[1])+rasterRes/2:floor(data_meters.total_bounds[3])-rasterRes/2:nRows*1j,\r\n",
    "                         floor(data_meters.total_bounds[0])+rasterRes/2:floor(data_meters.total_bounds[2])+rasterRes/2:nCols*1j]"
   ],
   "outputs": [],
   "metadata": {}
  },
  {
   "cell_type": "code",
   "execution_count": null,
   "source": [
    "mtop = griddata(points, values, (grid_x, grid_y), method='cubic')\r\n",
    "# mtop[:10,:10]"
   ],
   "outputs": [],
   "metadata": {}
  },
  {
   "cell_type": "code",
   "execution_count": null,
   "source": [
    "values.max()"
   ],
   "outputs": [],
   "metadata": {}
  },
  {
   "cell_type": "code",
   "execution_count": null,
   "source": [
    "\r\n",
    "%matplotlib widget\r\n",
    "\r\n",
    "import matplotlib.pyplot as plt\r\n",
    "\r\n",
    "plt.imshow(mtop, cmap=\"Spectral_r\")\r\n",
    "plt.colorbar()\r\n",
    "plt.show()"
   ],
   "outputs": [],
   "metadata": {}
  },
  {
   "cell_type": "code",
   "execution_count": null,
   "source": [
    "frame.elevation=frame.elevation.apply(fl)"
   ],
   "outputs": [],
   "metadata": {}
  },
  {
   "cell_type": "code",
   "execution_count": 34,
   "source": [
    "%matplotlib widget\r\n",
    "import matplotlib.pyplot as plt\r\n",
    "from mpl_toolkits.mplot3d import axes3d\r\n",
    "fig = plt.figure()\r\n",
    "ax = fig.add_subplot(111,projection='3d')\r\n",
    "ax.scatter( frame.geometry.x,\r\n",
    "           frame.geometry.y,frame.elevation, cmap='Spectral_r',s=0.001, c=frame.elevation)\r\n",
    "\r\n",
    "plt.show()"
   ],
   "outputs": [
    {
     "output_type": "display_data",
     "data": {
      "text/plain": [
       "Canvas(toolbar=Toolbar(toolitems=[('Home', 'Reset original view', 'home', 'home'), ('Back', 'Back to previous …"
      ],
      "application/vnd.jupyter.widget-view+json": {
       "version_major": 2,
       "version_minor": 0,
       "model_id": "896d5643f83d448bb3006bc82544dbfa"
      }
     },
     "metadata": {}
    }
   ],
   "metadata": {}
  },
  {
   "cell_type": "code",
   "execution_count": null,
   "source": [
    "type(mtop[0][1])"
   ],
   "outputs": [],
   "metadata": {}
  },
  {
   "cell_type": "code",
   "execution_count": null,
   "source": [
    "# from scipy import interpolate\r\n",
    "# x= data_meters.geometry.x\r\n",
    "# y=data_meters.geometry.y\r\n",
    "# z=data_meters.elevation.values\r\n",
    "# f = interpolate.interp2d(x, y, z, kind='linear')"
   ],
   "outputs": [],
   "metadata": {}
  },
  {
   "cell_type": "code",
   "execution_count": null,
   "source": [],
   "outputs": [],
   "metadata": {}
  },
  {
   "cell_type": "code",
   "execution_count": 29,
   "source": [
    "totalPointsArray = np.zeros([data_meters.shape[0],3])\r\n",
    "#iteration over the geopandas dataframe\r\n",
    "for index, point in data_meters.iterrows():\r\n",
    "    pointArray = np.array([point.geometry.coords.xy[0][0],point.geometry.coords.xy[1][0],point['elevation']])\r\n",
    "    totalPointsArray[index] = pointArray\r\n",
    "totalPointsArray[:5,:]"
   ],
   "outputs": [
    {
     "output_type": "execute_result",
     "data": {
      "text/plain": [
       "array([[-1.04368762e+07,  5.12015680e+06,  3.10100000e+02],\n",
       "       [-1.04368319e+07,  5.12017915e+06,  3.10560000e+02],\n",
       "       [-1.04368762e+07,  5.12024565e+06,  3.10400000e+02],\n",
       "       [-1.04368765e+07,  5.12031223e+06,  3.11590000e+02],\n",
       "       [-1.04368549e+07,  5.12033398e+06,  3.12160000e+02]])"
      ]
     },
     "metadata": {},
     "execution_count": 29
    }
   ],
   "metadata": {}
  },
  {
   "cell_type": "code",
   "execution_count": 30,
   "source": [
    "\r\n",
    "from matplotlib.tri import Triangulation, LinearTriInterpolator,CubicTriInterpolator\r\n",
    "#triangulation function\r\n",
    "triFn = Triangulation(totalPointsArray[:,0],totalPointsArray[:,1])\r\n",
    "#linear triangule interpolator funtion\r\n",
    "linTriFn = LinearTriInterpolator(triFn,totalPointsArray[:,2])"
   ],
   "outputs": [],
   "metadata": {}
  },
  {
   "cell_type": "code",
   "execution_count": null,
   "source": [
    "from shapely.geometry import Point"
   ],
   "outputs": [],
   "metadata": {}
  },
  {
   "cell_type": "code",
   "execution_count": 31,
   "source": [
    "rasterRes = 1\r\n",
    "\r\n",
    "xCoords = np.arange(totalPointsArray[:,0].min(), totalPointsArray[:,0].max()+rasterRes, rasterRes)\r\n",
    "yCoords = np.arange(totalPointsArray[:,1].min(), totalPointsArray[:,1].max()+rasterRes, rasterRes)\r\n",
    "zCoords = np.zeros([yCoords.shape[0],xCoords.shape[0]])\r\n",
    "polygons=[]\r\n",
    "elevations=[]\r\n",
    "\r\n",
    "#loop among each cell in the raster extension\r\n",
    "for indexX, x in np.ndenumerate(xCoords):\r\n",
    "    for indexY, y in np.ndenumerate(yCoords):\r\n",
    "        tempZ = linTriFn(x,y)\r\n",
    "        #filtering masked values\r\n",
    "        if tempZ == tempZ:\r\n",
    "            zCoords[indexY,indexX]=tempZ\r\n",
    "            \r\n",
    "            polygons.append(Point(x,y)) \r\n",
    "            elevations.append(float(tempZ.data[()]))\r\n",
    "        else:\r\n",
    "            zCoords[indexY,indexX]=np.nan\r\n",
    "            # elevations.append(np.nan)\r\n"
   ],
   "outputs": [],
   "metadata": {}
  },
  {
   "cell_type": "code",
   "execution_count": 32,
   "source": [
    "import geopandas as gpd"
   ],
   "outputs": [],
   "metadata": {}
  },
  {
   "cell_type": "code",
   "execution_count": 33,
   "source": [
    "frame=gpd.GeoDataFrame(columns=[\"elevation\", \"geometry\"])\r\n",
    "frame['elevation'] = elevations\r\n",
    "frame['geometry'] = polygons\r\n",
    "frame.set_geometry(\"geometry\",inplace=True)\r\n",
    "frame.set_crs(crs=data_meters.crs, inplace=True)"
   ],
   "outputs": [
    {
     "output_type": "execute_result",
     "data": {
      "text/plain": [
       "         elevation                           geometry\n",
       "0       309.942788  POINT (-10436886.430 5120154.043)\n",
       "1       310.012600  POINT (-10436886.430 5120155.043)\n",
       "2       310.047287  POINT (-10436886.430 5120156.043)\n",
       "3       310.033208  POINT (-10436886.430 5120157.043)\n",
       "4       310.032842  POINT (-10436886.430 5120158.043)\n",
       "...            ...                                ...\n",
       "499250  318.257498  POINT (-10435906.430 5120656.043)\n",
       "499251  318.354460  POINT (-10435906.430 5120657.043)\n",
       "499252  318.352785  POINT (-10435906.430 5120658.043)\n",
       "499253  318.333323  POINT (-10435906.430 5120659.043)\n",
       "499254  318.331414  POINT (-10435906.430 5120660.043)\n",
       "\n",
       "[499255 rows x 2 columns]"
      ],
      "text/html": [
       "<div>\n",
       "<style scoped>\n",
       "    .dataframe tbody tr th:only-of-type {\n",
       "        vertical-align: middle;\n",
       "    }\n",
       "\n",
       "    .dataframe tbody tr th {\n",
       "        vertical-align: top;\n",
       "    }\n",
       "\n",
       "    .dataframe thead th {\n",
       "        text-align: right;\n",
       "    }\n",
       "</style>\n",
       "<table border=\"1\" class=\"dataframe\">\n",
       "  <thead>\n",
       "    <tr style=\"text-align: right;\">\n",
       "      <th></th>\n",
       "      <th>elevation</th>\n",
       "      <th>geometry</th>\n",
       "    </tr>\n",
       "  </thead>\n",
       "  <tbody>\n",
       "    <tr>\n",
       "      <th>0</th>\n",
       "      <td>309.942788</td>\n",
       "      <td>POINT (-10436886.430 5120154.043)</td>\n",
       "    </tr>\n",
       "    <tr>\n",
       "      <th>1</th>\n",
       "      <td>310.012600</td>\n",
       "      <td>POINT (-10436886.430 5120155.043)</td>\n",
       "    </tr>\n",
       "    <tr>\n",
       "      <th>2</th>\n",
       "      <td>310.047287</td>\n",
       "      <td>POINT (-10436886.430 5120156.043)</td>\n",
       "    </tr>\n",
       "    <tr>\n",
       "      <th>3</th>\n",
       "      <td>310.033208</td>\n",
       "      <td>POINT (-10436886.430 5120157.043)</td>\n",
       "    </tr>\n",
       "    <tr>\n",
       "      <th>4</th>\n",
       "      <td>310.032842</td>\n",
       "      <td>POINT (-10436886.430 5120158.043)</td>\n",
       "    </tr>\n",
       "    <tr>\n",
       "      <th>...</th>\n",
       "      <td>...</td>\n",
       "      <td>...</td>\n",
       "    </tr>\n",
       "    <tr>\n",
       "      <th>499250</th>\n",
       "      <td>318.257498</td>\n",
       "      <td>POINT (-10435906.430 5120656.043)</td>\n",
       "    </tr>\n",
       "    <tr>\n",
       "      <th>499251</th>\n",
       "      <td>318.354460</td>\n",
       "      <td>POINT (-10435906.430 5120657.043)</td>\n",
       "    </tr>\n",
       "    <tr>\n",
       "      <th>499252</th>\n",
       "      <td>318.352785</td>\n",
       "      <td>POINT (-10435906.430 5120658.043)</td>\n",
       "    </tr>\n",
       "    <tr>\n",
       "      <th>499253</th>\n",
       "      <td>318.333323</td>\n",
       "      <td>POINT (-10435906.430 5120659.043)</td>\n",
       "    </tr>\n",
       "    <tr>\n",
       "      <th>499254</th>\n",
       "      <td>318.331414</td>\n",
       "      <td>POINT (-10435906.430 5120660.043)</td>\n",
       "    </tr>\n",
       "  </tbody>\n",
       "</table>\n",
       "<p>499255 rows × 2 columns</p>\n",
       "</div>"
      ]
     },
     "metadata": {},
     "execution_count": 33
    }
   ],
   "metadata": {}
  },
  {
   "cell_type": "code",
   "execution_count": null,
   "source": [
    "frame.plot(column='elevation',  cmap = 'Spectral_r',  legend=True)\r\n",
    "# plt.grid()"
   ],
   "outputs": [],
   "metadata": {}
  },
  {
   "cell_type": "code",
   "execution_count": 37,
   "source": [
    "frame['lon']= frame['geometry'].x\r\n",
    "frame['lat'] = frame['geometry'].y"
   ],
   "outputs": [],
   "metadata": {}
  },
  {
   "cell_type": "code",
   "execution_count": null,
   "source": [],
   "outputs": [],
   "metadata": {}
  },
  {
   "cell_type": "code",
   "execution_count": null,
   "source": [
    "plt.imshow(zCoords,origin='lower',cmap=\"Spectral_r\" )"
   ],
   "outputs": [],
   "metadata": {}
  },
  {
   "cell_type": "code",
   "execution_count": null,
   "source": [
    "\r\n",
    "\r\n",
    "\r\n",
    "\r\n",
    "\r\n",
    "\r\n"
   ],
   "outputs": [],
   "metadata": {}
  },
  {
   "cell_type": "code",
   "execution_count": null,
   "source": [],
   "outputs": [],
   "metadata": {}
  }
 ],
 "metadata": {
  "orig_nbformat": 4,
  "language_info": {
   "name": "python",
   "version": "3.9.6",
   "mimetype": "text/x-python",
   "codemirror_mode": {
    "name": "ipython",
    "version": 3
   },
   "pygments_lexer": "ipython3",
   "nbconvert_exporter": "python",
   "file_extension": ".py"
  },
  "kernelspec": {
   "name": "python3",
   "display_name": "Python 3.9.6 64-bit ('pdalworkshop': conda)"
  },
  "interpreter": {
   "hash": "0ffe4da897568b2225103fd00e2a27e80fae173a7fc6795dc8c4ad7869bd7164"
  }
 },
 "nbformat": 4,
 "nbformat_minor": 2
}